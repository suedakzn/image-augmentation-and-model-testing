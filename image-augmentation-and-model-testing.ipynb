{
 "cells": [
  {
   "cell_type": "code",
   "execution_count": null,
   "metadata": {
    "_cell_guid": "b1076dfc-b9ad-4769-8c92-a6c4dae69d19",
    "_uuid": "8f2839f25d086af736a60e9eeb907d3b93b6e0e5",
    "collapsed": true,
    "execution": {
     "iopub.execute_input": "2024-12-22T20:21:22.286886Z",
     "iopub.status.busy": "2024-12-22T20:21:22.286464Z",
     "iopub.status.idle": "2024-12-22T20:23:13.533032Z",
     "shell.execute_reply": "2024-12-22T20:23:13.531553Z",
     "shell.execute_reply.started": "2024-12-22T20:21:22.286854Z"
    },
    "jupyter": {
     "outputs_hidden": true
    },
    "trusted": true
   },
   "outputs": [],
   "source": [
    "from tensorflow.keras.utils import to_categorical\n",
    "from tensorflow.keras.models import Sequential\n",
    "from tensorflow.keras.layers import Conv2D, MaxPooling2D, Flatten, Dense, Dropout\n",
    "from tensorflow.keras.optimizers import Adam\n",
    "import numpy as np # linear algebra\n",
    "import pandas as pd # data processing, CSV file I/O (e.g. pd.read_csv)\n",
    "import shutil\n",
    "import cv2\n",
    "import tensorflow as tf\n",
    "from sklearn.model_selection import train_test_split\n",
    "import matplotlib.pyplot as plt\n",
    "import random\n",
    "from PIL import Image, ImageEnhance\n",
    "import os\n",
    "for dirname, _, filenames in os.walk('/kaggle/input'):\n",
    "    for filename in filenames:\n",
    "        print(os.path.join(dirname, filename))"
   ]
  },
  {
   "cell_type": "markdown",
   "metadata": {},
   "source": [
    "## 2) Veri Setini Hazırlama"
   ]
  },
  {
   "cell_type": "markdown",
   "metadata": {},
   "source": [
    "### Veri setinin dosya yapısını inceleme\n",
    "1) **Base Directory Kontrolü:** Veri setinin bulunduğu ana klasörü listeledim ve içinde hangi alt klasör olduğunu kontrol ettim.Bu, veri setine doğru şekilde eriştiğimi doğrulamak için önemli bir adım.\n",
    "2) **Alt Klasörlerin ve Dosyaların Listelenmesi:** Ana klasör içindeki alt klasörü ('Animals_with_Attributes2') listeleyerek veri setinin yapısını anlamaya çalıştım. Doğru klasöre erişim sağladığımdan emin oldum.\n",
    "3) **JPEGImages Klasöründeki Hayvan Sınıflarını Listeleme:** Hayvan görüntülerinin yer aldığı `JPEGImages` klasörünü listeledim ve içindeki sınıfları inceledim.Bu, sınıflandırma yapacağım veri setini anlamama yardımcı oldu."
   ]
  },
  {
   "cell_type": "code",
   "execution_count": null,
   "metadata": {
    "execution": {
     "iopub.execute_input": "2024-12-22T20:23:13.535443Z",
     "iopub.status.busy": "2024-12-22T20:23:13.534985Z",
     "iopub.status.idle": "2024-12-22T20:23:13.541658Z",
     "shell.execute_reply": "2024-12-22T20:23:13.540374Z",
     "shell.execute_reply.started": "2024-12-22T20:23:13.535396Z"
    },
    "trusted": true
   },
   "outputs": [],
   "source": [
    "# Base Directory Kontrolü\n",
    "base_dir = '/kaggle/input/animals-with-attributes-2'\n",
    "print(os.listdir(base_dir))  # Bu klasörde hangi dosyalar var?"
   ]
  },
  {
   "cell_type": "code",
   "execution_count": null,
   "metadata": {
    "execution": {
     "iopub.execute_input": "2024-12-22T20:23:13.544672Z",
     "iopub.status.busy": "2024-12-22T20:23:13.544279Z",
     "iopub.status.idle": "2024-12-22T20:23:13.561055Z",
     "shell.execute_reply": "2024-12-22T20:23:13.559848Z",
     "shell.execute_reply.started": "2024-12-22T20:23:13.544628Z"
    },
    "trusted": true
   },
   "outputs": [],
   "source": [
    "# Alt Klasörlerin ve Dosyaların Listelenmesi\n",
    "sub_dir = '/kaggle/input/animals-with-attributes-2/Animals_with_Attributes2'\n",
    "print(os.listdir(sub_dir))  # Alt klasörleri ve dosyaları listeleme"
   ]
  },
  {
   "cell_type": "code",
   "execution_count": null,
   "metadata": {
    "execution": {
     "iopub.execute_input": "2024-12-22T20:23:13.563039Z",
     "iopub.status.busy": "2024-12-22T20:23:13.562725Z",
     "iopub.status.idle": "2024-12-22T20:23:13.581005Z",
     "shell.execute_reply": "2024-12-22T20:23:13.579715Z",
     "shell.execute_reply.started": "2024-12-22T20:23:13.563010Z"
    },
    "trusted": true
   },
   "outputs": [],
   "source": [
    "# JPEGImages Klasöründeki Hayvan Sınıflarını Listeleme\n",
    "image_dir = '/kaggle/input/animals-with-attributes-2/Animals_with_Attributes2/JPEGImages'\n",
    "print(os.listdir(image_dir))  # Hayvan sınıflarını listeleme"
   ]
  },
  {
   "cell_type": "markdown",
   "metadata": {},
   "source": [
    "### Gerekli Sınıfları Kontrol Etme\n",
    "Projede dosyasında belirtilen ve kullanılacak olan 10 sınıfın 'JPEGImages' klasöründe bulunup bulunmadığını kontrol ettim. Bu adım, veri setindeki doğru sınıflarla çalışmaya başlayabilmek için önemli."
   ]
  },
  {
   "cell_type": "code",
   "execution_count": null,
   "metadata": {
    "execution": {
     "iopub.execute_input": "2024-12-22T20:23:13.582657Z",
     "iopub.status.busy": "2024-12-22T20:23:13.582260Z",
     "iopub.status.idle": "2024-12-22T20:23:13.605186Z",
     "shell.execute_reply": "2024-12-22T20:23:13.603883Z",
     "shell.execute_reply.started": "2024-12-22T20:23:13.582619Z"
    },
    "trusted": true
   },
   "outputs": [],
   "source": [
    "# Kullanılacak sınıflar\n",
    "selected_classes = ['collie', 'dolphin', 'elephant', 'fox', 'moose', 'rabbit', 'sheep', 'squirrel', 'giant+panda', 'polar+bear']\n",
    "\n",
    "for class_name in selected_classes:\n",
    "    if class_name in os.listdir(image_dir):\n",
    "        print(f\"{class_name} klasörü bulundu.\")\n",
    "    else:\n",
    "        print(f\"{class_name} klasörü bulunamadı!\")"
   ]
  },
  {
   "cell_type": "markdown",
   "metadata": {},
   "source": [
    "### Gerekli görüntüleri seç ve yeni klasöre  kopyala\n",
    "Projede kullanılacak olan 10 sınıf için her sınıftan sadece ilk 650 görüntüyü seçip yeni bir klasöre (*filtered_dir*) kopyaladım ve sonrasında yeni klasördeki sınıfları ve görüntü sayılarını kontrol ettim. Veri setindeki sınıfların dengeli olmasını sağlamak için önemli bir adım."
   ]
  },
  {
   "cell_type": "code",
   "execution_count": 130,
   "metadata": {
    "execution": {
     "iopub.execute_input": "2024-12-22T20:23:13.606856Z",
     "iopub.status.busy": "2024-12-22T20:23:13.606431Z",
     "iopub.status.idle": "2024-12-22T20:23:27.390907Z",
     "shell.execute_reply": "2024-12-22T20:23:27.389740Z",
     "shell.execute_reply.started": "2024-12-22T20:23:13.606825Z"
    },
    "trusted": true
   },
   "outputs": [],
   "source": [
    "# Yeni bir hedef klasör oluşturuldu\n",
    "filtered_dir = '/kaggle/working/filtered_data'\n",
    "os.makedirs(filtered_dir, exist_ok=True)\n",
    "\n",
    "for class_name in selected_classes:\n",
    "    source_class_dir = os.path.join(image_dir, class_name) # Orjinal sınıf klasörü\n",
    "    target_class_dir = os.path.join(filtered_dir, class_name) # Yeni hedef klasör\n",
    "    os.makedirs(target_class_dir, exist_ok = True) # Hedef klasör oluşturma\n",
    "\n",
    "    # Her sınıf için ilk 650 görüntüyü seç ve yeni klasöre kopyala\n",
    "    images = os.listdir(source_class_dir)[:650]\n",
    "    for image_name in images:\n",
    "        shutil.copy(os.path.join(source_class_dir, image_name), target_class_dir)"
   ]
  },
  {
   "cell_type": "code",
   "execution_count": null,
   "metadata": {
    "execution": {
     "iopub.execute_input": "2024-12-22T20:23:27.392725Z",
     "iopub.status.busy": "2024-12-22T20:23:27.392320Z",
     "iopub.status.idle": "2024-12-22T20:23:27.406184Z",
     "shell.execute_reply": "2024-12-22T20:23:27.405042Z",
     "shell.execute_reply.started": "2024-12-22T20:23:27.392674Z"
    },
    "trusted": true
   },
   "outputs": [],
   "source": [
    "# Yeni klasördeki sınıfları ve görüntü sayısını kontrol etme\n",
    "for class_name in selected_classes:\n",
    "    class_dir = os.path.join(filtered_dir, class_name)\n",
    "    print(f\"{class_name}: {len(os.listdir(class_dir))} images\")"
   ]
  },
  {
   "cell_type": "markdown",
   "metadata": {},
   "source": [
    "### Tüm görüntüleri aynı boyuta getir ve normalize et"
   ]
  },
  {
   "cell_type": "code",
   "execution_count": 132,
   "metadata": {
    "execution": {
     "iopub.execute_input": "2024-12-22T20:23:27.409545Z",
     "iopub.status.busy": "2024-12-22T20:23:27.409241Z",
     "iopub.status.idle": "2024-12-22T20:23:27.414971Z",
     "shell.execute_reply": "2024-12-22T20:23:27.414035Z",
     "shell.execute_reply.started": "2024-12-22T20:23:27.409510Z"
    },
    "trusted": true
   },
   "outputs": [],
   "source": [
    "def preprocess_image(image_path, size = (128,128)):\n",
    "    image = cv2.imread(image_path)\n",
    "    image_resized = cv2.resize(image,size)\n",
    "    image_normalized = image_resized / 255.0\n",
    "    return image_normalized"
   ]
  },
  {
   "cell_type": "code",
   "execution_count": 133,
   "metadata": {
    "execution": {
     "iopub.execute_input": "2024-12-22T20:23:27.417755Z",
     "iopub.status.busy": "2024-12-22T20:23:27.417377Z",
     "iopub.status.idle": "2024-12-22T20:24:28.046022Z",
     "shell.execute_reply": "2024-12-22T20:24:28.044957Z",
     "shell.execute_reply.started": "2024-12-22T20:23:27.417726Z"
    },
    "trusted": true
   },
   "outputs": [],
   "source": [
    "X = []  # Görüntü veri seti\n",
    "y = []  # Etiketler\n",
    "\n",
    "for idx, class_name in enumerate(selected_classes):\n",
    "    class_dir = os.path.join(filtered_dir, class_name)\n",
    "    for image_name in os.listdir(class_dir):\n",
    "        image_path = os.path.join(class_dir, image_name)\n",
    "        processed_image = preprocess_image(image_path)\n",
    "        X.append(processed_image)\n",
    "        y.append(idx)"
   ]
  },
  {
   "cell_type": "code",
   "execution_count": null,
   "metadata": {
    "execution": {
     "iopub.execute_input": "2024-12-22T20:24:28.047514Z",
     "iopub.status.busy": "2024-12-22T20:24:28.047127Z",
     "iopub.status.idle": "2024-12-22T20:24:29.566415Z",
     "shell.execute_reply": "2024-12-22T20:24:29.564918Z",
     "shell.execute_reply.started": "2024-12-22T20:24:28.047476Z"
    },
    "trusted": true
   },
   "outputs": [],
   "source": [
    "# Listeleri numpy dizilerine dönüştür\n",
    "X = np.array(X)\n",
    "y = np.array(y)\n",
    "\n",
    "# İşlemlerin sonuçlarını kontrol et\n",
    "print(f\"Toplam görüntü sayısı: {len(X)}\")\n",
    "print(f\"Görüntü boyutları: {X[0].shape}\")\n",
    "print(f\"Toplam etiket sayısı: {len(y)}\")"
   ]
  },
  {
   "cell_type": "markdown",
   "metadata": {},
   "source": [
    "#### Veri İşleme Sonuçları \n",
    "\n",
    "Aşağıdaki sonuçlar, görüntülerin işlenip boyutlandırılması ve etiketlenmesi sonrasında elde edilmiştir:\n",
    "\n",
    "1. Toplam görüntü sayısı: **6500**\n",
    "- Her sınıf için(10 sınıf) **650 görüntü** işlenmiştir. (10 x 650= 6500)\n",
    "- Modelin her sınıfa eşit derecede öğrenme şansı olması sağlandı\n",
    "\n",
    "2. Görüntü boyutları: **(128,128,3)**\n",
    "- Tüm görüntüler 128x128 piksel boyutunda yeniden boyutlandırılmıştır.\n",
    "- *3*: Görüntülerin renkli olduğunu ifade eder. (RGB renk kanalları: kırmızı, yeşil, mavi)\n",
    "\n",
    "3. Toplam etiket sayısı: **6500**\n",
    "- Her görüntüye bir sınıf etiketi atanmıştır.\n",
    "- Etiketlerin sayısı ile toplam görüntü sayısı aynıdır. Bunun anlamı, veri işleme sırasında herhangi bir eksik görüntü veya etiket olmadığını doğrular. Eğitim aşamasına geçmeye hazır olduğumu göstermektedir."
   ]
  },
  {
   "cell_type": "markdown",
   "metadata": {},
   "source": [
    "### Veriyi train(eğitim) ve test setlerine ayırma\n",
    "Veri setini %70 eğitim ve %30 test olacak şekilde ikiye böldüm. Bu işlem, modelin eğitim ve değerlendirme için ayrı veri setlerinde çalışmasını sağlar."
   ]
  },
  {
   "cell_type": "code",
   "execution_count": null,
   "metadata": {
    "execution": {
     "iopub.execute_input": "2024-12-22T20:24:29.567749Z",
     "iopub.status.busy": "2024-12-22T20:24:29.567461Z",
     "iopub.status.idle": "2024-12-22T20:24:33.352760Z",
     "shell.execute_reply": "2024-12-22T20:24:33.351625Z",
     "shell.execute_reply.started": "2024-12-22T20:24:29.567724Z"
    },
    "trusted": true
   },
   "outputs": [],
   "source": [
    "# Görüntüleri eğitim ve test setine ayır\n",
    "X_train, X_test, y_train, y_test = train_test_split(X, y, test_size=0.3, random_state=42)\n",
    "# Sonuçları yazdır\n",
    "print(f\"Eğitim seti boyutu: {len(X_train)} görüntü\")\n",
    "print(f\"Test seti boyutu: {len(X_test)} görüntü\")\n",
    "print(f\"Eğitim etiketleri: {len(y_train)}\")\n",
    "print(f\"Test etiketleri: {len(y_test)}\")"
   ]
  },
  {
   "cell_type": "markdown",
   "metadata": {},
   "source": [
    "### Eğitim setine veri arttırma(Augmentation) uygulama"
   ]
  },
  {
   "cell_type": "markdown",
   "metadata": {},
   "source": [
    "#### **1. Bulanıklaştırma**"
   ]
  },
  {
   "cell_type": "code",
   "execution_count": 136,
   "metadata": {
    "execution": {
     "iopub.execute_input": "2024-12-22T20:24:33.354123Z",
     "iopub.status.busy": "2024-12-22T20:24:33.353844Z",
     "iopub.status.idle": "2024-12-22T20:24:33.359486Z",
     "shell.execute_reply": "2024-12-22T20:24:33.358398Z",
     "shell.execute_reply.started": "2024-12-22T20:24:33.354099Z"
    },
    "trusted": true
   },
   "outputs": [],
   "source": [
    "def blur_image(image):\n",
    "    return cv2.GaussianBlur(image, (5,5), 0)"
   ]
  },
  {
   "cell_type": "markdown",
   "metadata": {},
   "source": [
    "#### **2. Kenar Bulma**"
   ]
  },
  {
   "cell_type": "code",
   "execution_count": 137,
   "metadata": {
    "execution": {
     "iopub.execute_input": "2024-12-22T20:24:33.361289Z",
     "iopub.status.busy": "2024-12-22T20:24:33.360905Z",
     "iopub.status.idle": "2024-12-22T20:24:33.381034Z",
     "shell.execute_reply": "2024-12-22T20:24:33.379899Z",
     "shell.execute_reply.started": "2024-12-22T20:24:33.361260Z"
    },
    "trusted": true
   },
   "outputs": [],
   "source": [
    "def edge_detection(image):\n",
    "    gray = cv2.cvtColor((image * 255).astype('uint8'), cv2.COLOR_BGR2GRAY) # siyah-beyaz çevirme\n",
    "    edges = cv2.Canny(gray, 100, 200) # kenar bulma\n",
    "    return edges"
   ]
  },
  {
   "cell_type": "markdown",
   "metadata": {},
   "source": [
    "#### **3.Yeniden Boyutlandırma**"
   ]
  },
  {
   "cell_type": "code",
   "execution_count": 138,
   "metadata": {
    "execution": {
     "iopub.execute_input": "2024-12-22T20:24:33.382663Z",
     "iopub.status.busy": "2024-12-22T20:24:33.382270Z",
     "iopub.status.idle": "2024-12-22T20:24:33.401533Z",
     "shell.execute_reply": "2024-12-22T20:24:33.400534Z",
     "shell.execute_reply.started": "2024-12-22T20:24:33.382630Z"
    },
    "trusted": true
   },
   "outputs": [],
   "source": [
    "def resize_image(image, size= (64,64)):\n",
    "    return cv2.resize(image, size)"
   ]
  },
  {
   "cell_type": "markdown",
   "metadata": {},
   "source": [
    "#### **4. Döndürme**"
   ]
  },
  {
   "cell_type": "code",
   "execution_count": 139,
   "metadata": {
    "execution": {
     "iopub.execute_input": "2024-12-22T20:24:33.402888Z",
     "iopub.status.busy": "2024-12-22T20:24:33.402549Z",
     "iopub.status.idle": "2024-12-22T20:24:33.422554Z",
     "shell.execute_reply": "2024-12-22T20:24:33.421310Z",
     "shell.execute_reply.started": "2024-12-22T20:24:33.402850Z"
    },
    "trusted": true
   },
   "outputs": [],
   "source": [
    "# Görüntüyü 30 derece döndürme\n",
    "def rotate_image(image, angle = 30):\n",
    "    (h,w) = image.shape[:2] # görüntünün ilk 2 boyutunu alma(yükseklik ve genişlik)\n",
    "    center = ( w // 2, h // 2) # görüntünün merkezini hesaplama\n",
    "    matrix = cv2.getRotationMatrix2D(center, angle, 1.0)\n",
    "    rotated = cv2.warpAffine(image, matrix, (w,h)) # görüntüyü döndürmek için hesaplanan matrisi uygula\n",
    "    return rotated"
   ]
  },
  {
   "cell_type": "markdown",
   "metadata": {},
   "source": [
    "#### **5. Gürültü Ekleme**"
   ]
  },
  {
   "cell_type": "code",
   "execution_count": 140,
   "metadata": {
    "execution": {
     "iopub.execute_input": "2024-12-22T20:24:33.424164Z",
     "iopub.status.busy": "2024-12-22T20:24:33.423744Z",
     "iopub.status.idle": "2024-12-22T20:24:33.443017Z",
     "shell.execute_reply": "2024-12-22T20:24:33.441734Z",
     "shell.execute_reply.started": "2024-12-22T20:24:33.424107Z"
    },
    "trusted": true
   },
   "outputs": [],
   "source": [
    "def add_noise(image):\n",
    "    noise = np.random.normal(0, 0.05, image.shape)\n",
    "    noisy_image = np.clip(image + noise, 0, 1) # piksel değerleri 0-1 arasında sınırlandırıldı(0dan küçükse 0, 1den büyükse 1)\n",
    "    return noisy_image"
   ]
  },
  {
   "cell_type": "markdown",
   "metadata": {},
   "source": [
    "#### **Tüm Manipülasyon Teknikleri Eğitim Setine Uygulama**"
   ]
  },
  {
   "cell_type": "code",
   "execution_count": null,
   "metadata": {
    "execution": {
     "iopub.execute_input": "2024-12-22T20:24:33.444800Z",
     "iopub.status.busy": "2024-12-22T20:24:33.444365Z",
     "iopub.status.idle": "2024-12-22T20:24:54.080083Z",
     "shell.execute_reply": "2024-12-22T20:24:54.079029Z",
     "shell.execute_reply.started": "2024-12-22T20:24:33.444756Z"
    },
    "trusted": true
   },
   "outputs": [],
   "source": [
    "augmented_images = [] # manipüle edilmiş görüntülerin saklanacağı liste\n",
    "\n",
    "# Tüm eğitim setine manipülasyon uygula\n",
    "for idx in range(len(X_train)): # tüm eğitim seti\n",
    "    \n",
    "    original_image = X_train[idx]\n",
    "\n",
    "    # manipülasyon işlemleri\n",
    "    blurred = blur_image(original_image)\n",
    "    edges = edge_detection(original_image)\n",
    "    resized = resize_image(original_image)\n",
    "    rotated = rotate_image(original_image)\n",
    "    noisy = add_noise(original_image)\n",
    "\n",
    "    # manipülasyon işlemlerini kaydet\n",
    "    augmented_images.append({\n",
    "        \"original\": original_image,\n",
    "        \"blurred\": blurred,\n",
    "        \"edges\": edges,\n",
    "        \"resized\": resized,\n",
    "        \"rotated\": rotated,\n",
    "        \"noisy\": noisy\n",
    "    })\n",
    "    \n",
    "print(\"Tüm eğitim manipülasyonu işlemi başarıyla tamamlandı!\")"
   ]
  },
  {
   "cell_type": "code",
   "execution_count": null,
   "metadata": {
    "execution": {
     "iopub.execute_input": "2024-12-22T20:24:54.081371Z",
     "iopub.status.busy": "2024-12-22T20:24:54.081078Z",
     "iopub.status.idle": "2024-12-22T20:24:55.347080Z",
     "shell.execute_reply": "2024-12-22T20:24:55.345440Z",
     "shell.execute_reply.started": "2024-12-22T20:24:54.081345Z"
    },
    "trusted": true
   },
   "outputs": [],
   "source": [
    "result = augmented_images[0] # listenin ilk elemanını al\n",
    "\n",
    "fig, axs = plt.subplots(1, 6, figsize = (20,5)) # 1 satır, 6 sütundan oluşan ve her sütun bir manipüle edilmiş görüntüyü temsil eder\n",
    "axs[0].imshow(result[\"original\"]) # ilk manipüle edilmiş görüntünün orjinal halini göster\n",
    "axs[0].set_title(\"Original\")\n",
    "\n",
    "axs[1].imshow(result[\"blurred\"])\n",
    "axs[1].set_title(\"Bulanık\")\n",
    "\n",
    "axs[2].imshow(result[\"edges\"], cmap=\"gray\") \n",
    "axs[2].set_title(\"Kenar Bulma\")\n",
    "\n",
    "axs[3].imshow(result[\"resized\"])\n",
    "axs[3].set_title(\"Yeniden Boyutlandır\")\n",
    "\n",
    "axs[4].imshow(result[\"rotated\"])\n",
    "axs[4].set_title(\"Döndürme\")\n",
    "\n",
    "axs[5].imshow(result[\"noisy\"])\n",
    "axs[5].set_title(\"Gürültü\")\n"
   ]
  },
  {
   "cell_type": "code",
   "execution_count": null,
   "metadata": {
    "execution": {
     "iopub.execute_input": "2024-12-22T20:24:55.348907Z",
     "iopub.status.busy": "2024-12-22T20:24:55.348412Z",
     "iopub.status.idle": "2024-12-22T20:24:56.300041Z",
     "shell.execute_reply": "2024-12-22T20:24:56.298039Z",
     "shell.execute_reply.started": "2024-12-22T20:24:55.348858Z"
    },
    "trusted": true
   },
   "outputs": [],
   "source": [
    "result1 = augmented_images[0] # listenin ilk elemanını al\n",
    "\n",
    "fig, axs = plt.subplots(1, 6, figsize = (20,5)) # 1 satır, 6 sütundan oluşan ve her sütun bir manipüle edilmiş görüntüyü temsil eder\n",
    "axs[0].imshow(result[\"original\"]) # ilk manipüle edilmiş görüntünün orjinal halini göster\n",
    "axs[0].set_title(\"Original\")\n",
    "\n",
    "axs[1].imshow(result[\"blurred\"])\n",
    "axs[1].set_title(\"Bulanık\")\n",
    "\n",
    "axs[2].imshow(result[\"edges\"], cmap=\"gray\") \n",
    "axs[2].set_title(\"Kenar Bulma\")\n",
    "\n",
    "axs[3].imshow(result[\"resized\"])\n",
    "axs[3].set_title(\"Yeniden Boyutlandır\")\n",
    "\n",
    "axs[4].imshow(result[\"rotated\"])\n",
    "axs[4].set_title(\"Döndürme\")\n",
    "\n",
    "axs[5].imshow(result[\"noisy\"])\n",
    "axs[5].set_title(\"Gürültü\") \n",
    "\n",
    "for ax in axs:\n",
    "    ax.axis(\"off\")\n",
    "plt.tight_layout()\n",
    "plt.show()"
   ]
  },
  {
   "cell_type": "markdown",
   "metadata": {},
   "source": [
    "## **3) CNN Modeli Tasarlama**\n",
    "\n",
    "Bu model, hem düşük seviyeli hem de yüksek seviyeli özellikleri öğrenerek 10 sınıfa ait hayvan görüntülerini doğru bir şekilde sınıflandırmayı hedeflemektedir. Dropout kullanılarak aşırı öğrenme engellenmiş, softmax aktivasyonu ile sınıf olasılıkları hesaplanmıştır.\n",
    "\n",
    "### **Model Katmanları**\n",
    "1. **Conv2D Katmanları (Konvolüsyon):***\n",
    "- Görüntüden özellikleri çıkarmak için kullanılır.\n",
    "- Modelde 3 kovülasyon katmanı bulunmaktadır.\n",
    "  1) İlk katman temel özellikleri (kenarlar, köşeler)\n",
    "  2) İkinci katman orta seviyeli özellikler\n",
    "  3) Üçüncü katman ise daha karmaşık, yüksek seviyeli özellikler\n",
    "\n",
    "2. **MaxPooling2D Katmanları (Havuzlama):**\n",
    "- Görüntü boyutlarını küçültmek ve modelin hesaplama maliyetini azaltmak için kullanılır.\n",
    "- Her kovülasyon katmanının ardından bir max pooling katmanı eklenmiştir.\n",
    "\n",
    "3. **Flatten Katmanı:**\n",
    "- Konvülasyon ve havuzlama katmanlarının çıktısını düzleştirerek fully connected katmanlara hazırlar.\n",
    "\n",
    "4. **Dense Katmanları (Tam Bağlantılı):**\n",
    "- Öğrenilen özellikleri sınıflandırma işlemine dönüştürmek için kullanılır.\n",
    "- Son katman, *\"softmax\"* aktivasyon fonksiyonu ile her sınıfa bir olasılık atar.\n",
    "\n",
    "5. **Dropout:**\n",
    "- Aşırı öğrenmeyi engellemek için fully connected katmanda kullanılmıştır."
   ]
  },
  {
   "cell_type": "code",
   "execution_count": null,
   "metadata": {
    "execution": {
     "iopub.execute_input": "2024-12-22T20:24:56.301487Z",
     "iopub.status.busy": "2024-12-22T20:24:56.301181Z",
     "iopub.status.idle": "2024-12-22T20:24:56.445219Z",
     "shell.execute_reply": "2024-12-22T20:24:56.444225Z",
     "shell.execute_reply.started": "2024-12-22T20:24:56.301460Z"
    },
    "trusted": true
   },
   "outputs": [],
   "source": [
    "# CNN Modeli\n",
    "model = Sequential()\n",
    "\n",
    "# 1. Kovülasyon Katmanı\n",
    "model.add(Conv2D(32, (3,3), activation = 'relu', input_shape = (128, 128, 3))) # 32 filtre, 3x3 çekirdek\n",
    "model.add(MaxPooling2D(pool_size = (2,2))) # 2x2 boyutunda havuz\n",
    "\n",
    "# 2. Kovülasyon Katmanı\n",
    "model.add(Conv2D(64, (3,3), activation = 'relu')) # 64 filtre\n",
    "model.add(MaxPooling2D(pool_size = (2,2)))\n",
    "\n",
    "# 3. Kovülasyon Katmanı\n",
    "model.add(Conv2D(128, (3,3), activation = 'relu')) # 128 filtre\n",
    "model.add(MaxPooling2D(pool_size = (2,2)))\n",
    "\n",
    "# Fully Connected Katmanları\n",
    "model.add(Flatten()) # veriyi düzleştirme\n",
    "model.add(Dense(128, activation = 'relu')) # 128 nöronlu tam bağlantılı katman\n",
    "model.add(Dropout(0.5)) # aşırı öğrenmeyi önlemek için\n",
    "model.add(Dense(10, activation = 'softmax')) # çıkış katmanı\n",
    "\n",
    "# Modeli Derleme\n",
    "model.compile(optimizer= Adam(learning_rate=0.001),\n",
    "              loss='categorical_crossentropy',\n",
    "              metrics=['accuracy'])\n",
    "\n",
    "# Model özeti\n",
    "model.summary()"
   ]
  },
  {
   "cell_type": "markdown",
   "metadata": {},
   "source": [
    "#### **Toplam Parametre Sayısı:**\n",
    "- **Toplam:** 3,305,930\n",
    "- **Eğitilebilir:** 3,305,930\n",
    "- **Eğitilemez:** 0\n",
    "\n",
    "### **Modelin Çalışma Mantığı**\n",
    "1. **Giriş:** 128x128 boyutunda RGB görüntüler.\n",
    "2. **Çıkış:** 10 sınıf için her birine atanmış olasılık değerleri (softmax ile)\n",
    "3.  **Aşamalı Özellik Öğrenimi:**\n",
    "   - İlk konvolüsyon katmanları düşük seviyeli özellikleri (örneğin kenarlar),\n",
    "   - Orta katmanlar daha karmaşık özellikleri,\n",
    "   - Son katmanlar ise tüm görüntünün genel yapısını öğrenir.\n",
    "4. **Sınıflandırma:** Fully connected katmanlar, öğrenilen özellikleri 10 sınıfa ayırır."
   ]
  },
  {
   "cell_type": "markdown",
   "metadata": {},
   "source": [
    "## **4) Modeli Test Etme**"
   ]
  },
  {
   "cell_type": "code",
   "execution_count": 145,
   "metadata": {
    "execution": {
     "iopub.execute_input": "2024-12-22T20:24:56.446413Z",
     "iopub.status.busy": "2024-12-22T20:24:56.446123Z",
     "iopub.status.idle": "2024-12-22T20:24:56.452270Z",
     "shell.execute_reply": "2024-12-22T20:24:56.451116Z",
     "shell.execute_reply.started": "2024-12-22T20:24:56.446383Z"
    },
    "trusted": true
   },
   "outputs": [],
   "source": [
    "# Etiketleri one-hot encoding formatına dönüştür\n",
    "y_train_encoded = to_categorical(y_train, num_classes=10)\n",
    "y_test_encoded = to_categorical(y_test, num_classes=10)"
   ]
  },
  {
   "cell_type": "code",
   "execution_count": null,
   "metadata": {
    "execution": {
     "iopub.execute_input": "2024-12-22T20:24:56.454125Z",
     "iopub.status.busy": "2024-12-22T20:24:56.453732Z",
     "iopub.status.idle": "2024-12-22T20:40:17.570629Z",
     "shell.execute_reply": "2024-12-22T20:40:17.569612Z",
     "shell.execute_reply.started": "2024-12-22T20:24:56.454078Z"
    },
    "trusted": true
   },
   "outputs": [],
   "source": [
    "history = model.fit(\n",
    "    X_train, y_train_encoded,\n",
    "    validation_data=(X_test, y_test_encoded),\n",
    "    epochs=10,  # Eğitim döngüleri\n",
    "    batch_size=32,  # Mini-batch boyutu\n",
    "    verbose=1  # Eğitim sırasında detaylı çıktı\n",
    ")"
   ]
  },
  {
   "cell_type": "code",
   "execution_count": null,
   "metadata": {
    "execution": {
     "iopub.execute_input": "2024-12-22T20:40:17.578182Z",
     "iopub.status.busy": "2024-12-22T20:40:17.577815Z",
     "iopub.status.idle": "2024-12-22T20:40:38.106330Z",
     "shell.execute_reply": "2024-12-22T20:40:38.104768Z",
     "shell.execute_reply.started": "2024-12-22T20:40:17.578153Z"
    },
    "trusted": true
   },
   "outputs": [],
   "source": [
    "test_loss, test_accuracy = model.evaluate(X_test, y_test_encoded, verbose=0)\n",
    "print(f\"Test Doğruluğu: {test_accuracy*100:.2f}%\")"
   ]
  },
  {
   "cell_type": "markdown",
   "metadata": {},
   "source": [
    "Aşağıda, modelin eğitim sürecinde eğitim ve doğrulama doğruluk değerlerini gösteren bir grafik bulunmaktadır."
   ]
  },
  {
   "cell_type": "code",
   "execution_count": null,
   "metadata": {
    "execution": {
     "iopub.execute_input": "2024-12-22T20:40:38.109751Z",
     "iopub.status.busy": "2024-12-22T20:40:38.109261Z",
     "iopub.status.idle": "2024-12-22T20:40:38.403511Z",
     "shell.execute_reply": "2024-12-22T20:40:38.402344Z",
     "shell.execute_reply.started": "2024-12-22T20:40:38.109704Z"
    },
    "trusted": true
   },
   "outputs": [],
   "source": [
    "# Eğitim ve doğrulama doğruluğu grafiği\n",
    "plt.plot(history.history['accuracy'], label='Eğitim Doğruluğu')\n",
    "plt.plot(history.history['val_accuracy'], label='Doğrulama Doğruluğu')\n",
    "plt.xlabel('Epochs')\n",
    "plt.ylabel('Doğruluk')\n",
    "plt.legend()\n",
    "plt.show()"
   ]
  },
  {
   "cell_type": "markdown",
   "metadata": {},
   "source": [
    "### **Model Performansı ve Değerlendirme**\n",
    "**1. Eğitim Doğruluğu (Accuracy):** Grafiğe baktığımızda, modelin eğitim doğruluğu düzenli bir şekilde arttığı gözüküyor.\n",
    "- Bu, modelin eğitim verisi üzerinde her epoch'ta daha iyi performans sergilediğini gösterir.\n",
    "\n",
    "**2. Doğrulama Doğruluğu (Validation Accuracy):** Modelin doğrulama doğruluğu şu şekilde ilerlemiştir:\n",
    "- Doğrulama doğruluğu başlangıçta hızlı bir artış göstermiş, ancak yaklaşık 5-6 epoch sonrasında bir plato oluşturmuş ve daha fazla artmamıştır.\n",
    "- Bu durum, modelin doğrulama seti üzerindeki performansının belirli bir seviyeye ulaştıktan sonra iyileşmediğini göstermektedir.\n",
    "- Eğitim doğruluğu artmaya devam ederken doğrulama doğruluğu sabit kalmış veya hafifçe dalgalanmıştır.\n",
    "\n",
    "**3. Eğitim ve Doğrulama Kayıpları (Loss):**\n",
    "- Eğitim kaybı düzenli bir şekilde azalmıştır.\n",
    "- Doğrulama kaybı bazı noktalarda artmıştır. Bu artış, doğrulama setindeki performansın eğitim setine göre düştüğünü gösterir. Bu, modelin eğitim verisine fazla uyum sağladığını (**overfitting**) gösterebilir.\n",
    "\n",
    "\n",
    "**Yukarıdaki çıktılara ve grafiklere bakıldığında elde edilen sonuç:** \n",
    "\n",
    "Model, test verisiyle test edilmiştir. *Test doğruluğu %61* seviyesinde elde edilmiştir. Projede belirtilen kriterlere göre, model doğruluğu %50’nin üzerinde olduğu için model sınıfları yeterli bir başarıyla ayırabilmektedir. \n",
    "\n",
    "Bu doğrultuda, projede belirtilen talimatlara uygun olarak **bir sonraki adıma geçilmiştir.**"
   ]
  },
  {
   "cell_type": "markdown",
   "metadata": {},
   "source": [
    "## 5) Resimlerin Farklı Işıklar ile Manipüle Edilmesi"
   ]
  },
  {
   "cell_type": "code",
   "execution_count": 149,
   "metadata": {
    "execution": {
     "iopub.execute_input": "2024-12-22T20:40:38.405025Z",
     "iopub.status.busy": "2024-12-22T20:40:38.404722Z",
     "iopub.status.idle": "2024-12-22T20:40:38.414497Z",
     "shell.execute_reply": "2024-12-22T20:40:38.412778Z",
     "shell.execute_reply.started": "2024-12-22T20:40:38.404997Z"
    },
    "trusted": true
   },
   "outputs": [],
   "source": [
    "def get_manipulated_images_with_labels(image_paths, labels, save_dir, brightness_values=[0.5, 1.5]):\n",
    "  \n",
    "    if not os.path.exists(save_dir):\n",
    "        os.makedirs(save_dir)\n",
    "    \n",
    "    saved_paths = []  # Kaydedilen dosya yolları\n",
    "    manipulated_labels = []  # Genişletilmiş etiketler\n",
    "\n",
    "    for image_path, label in zip(image_paths, labels):\n",
    "        image = cv2.imread(image_path)\n",
    "        if image is None:\n",
    "            print(f\"Resim yüklenemedi: {image_path}\")\n",
    "            continue\n",
    "        image_name = os.path.basename(image_path).split('.')[0]\n",
    "        \n",
    "        for brightness in brightness_values:\n",
    "            manipulated_image = cv2.convertScaleAbs(image, alpha=brightness, beta=0)\n",
    "            save_path = os.path.join(save_dir, f\"{image_name}_brightness_{brightness}.jpg\")\n",
    "            cv2.imwrite(save_path, manipulated_image)\n",
    "            saved_paths.append(save_path)\n",
    "            manipulated_labels.append(label)  # Etiketi genişlet\n",
    "\n",
    "    return saved_paths, manipulated_labels"
   ]
  },
  {
   "cell_type": "code",
   "execution_count": null,
   "metadata": {
    "execution": {
     "iopub.execute_input": "2024-12-22T20:40:38.416030Z",
     "iopub.status.busy": "2024-12-22T20:40:38.415688Z",
     "iopub.status.idle": "2024-12-22T20:40:38.442632Z",
     "shell.execute_reply": "2024-12-22T20:40:38.440974Z",
     "shell.execute_reply.started": "2024-12-22T20:40:38.416000Z"
    },
    "trusted": true
   },
   "outputs": [],
   "source": [
    "print(os.path.exists('/kaggle/working/filtered_data'))"
   ]
  },
  {
   "cell_type": "code",
   "execution_count": null,
   "metadata": {
    "collapsed": true,
    "execution": {
     "iopub.execute_input": "2024-12-22T20:40:38.444424Z",
     "iopub.status.busy": "2024-12-22T20:40:38.443959Z",
     "iopub.status.idle": "2024-12-22T20:40:38.488214Z",
     "shell.execute_reply": "2024-12-22T20:40:38.486730Z",
     "shell.execute_reply.started": "2024-12-22T20:40:38.444379Z"
    },
    "jupyter": {
     "outputs_hidden": true
    },
    "trusted": true
   },
   "outputs": [],
   "source": [
    "filtered_data_files = os.listdir('/kaggle/working/filtered_data')\n",
    "print(f\"Dizindeki dosyalar: {filtered_data_files}\")"
   ]
  },
  {
   "cell_type": "code",
   "execution_count": null,
   "metadata": {
    "execution": {
     "iopub.execute_input": "2024-12-22T20:40:38.489768Z",
     "iopub.status.busy": "2024-12-22T20:40:38.489382Z",
     "iopub.status.idle": "2024-12-22T20:40:38.538981Z",
     "shell.execute_reply": "2024-12-22T20:40:38.537161Z",
     "shell.execute_reply.started": "2024-12-22T20:40:38.489734Z"
    },
    "trusted": true
   },
   "outputs": [],
   "source": [
    "test_dir = '/kaggle/working/filtered_data'\n",
    "\n",
    "# Alt klasörlerdeki tüm görüntü dosyalarını bulun\n",
    "image_paths = [\n",
    "    os.path.join(root, file)\n",
    "    for root, _, files in os.walk(test_dir)\n",
    "    for file in files\n",
    "    if file.lower().endswith(('.png', '.jpg', '.jpeg'))\n",
    "]\n",
    "\n",
    "print(f\"Bulunan test görüntüsü sayısı: {len(image_paths)}\")"
   ]
  },
  {
   "cell_type": "code",
   "execution_count": null,
   "metadata": {
    "execution": {
     "iopub.execute_input": "2024-12-22T20:40:38.541068Z",
     "iopub.status.busy": "2024-12-22T20:40:38.540613Z",
     "iopub.status.idle": "2024-12-22T20:41:13.081009Z",
     "shell.execute_reply": "2024-12-22T20:41:13.079889Z",
     "shell.execute_reply.started": "2024-12-22T20:40:38.541022Z"
    },
    "trusted": true
   },
   "outputs": [],
   "source": [
    "save_dir = '/kaggle/working/filtered_data'   # Manipüle edilmiş görüntülerin kaydedileceği klasör\n",
    "manipulated_paths, manipulated_labels = get_manipulated_images_with_labels(\n",
    "    image_paths=image_paths,\n",
    "    labels=y_test_encoded,  # Test setindeki etiketler\n",
    "    save_dir=save_dir,\n",
    "    brightness_values=[0.5, 1.5]\n",
    ")\n",
    "\n",
    "print(f\"Manipüle edilmiş görüntü sayısı: {len(manipulated_paths)}\")\n",
    "print(f\"Manipüle edilmiş etiket sayısı: {len(manipulated_labels)}\")"
   ]
  },
  {
   "cell_type": "code",
   "execution_count": null,
   "metadata": {
    "collapsed": true,
    "execution": {
     "iopub.execute_input": "2024-12-22T20:41:13.082496Z",
     "iopub.status.busy": "2024-12-22T20:41:13.082111Z",
     "iopub.status.idle": "2024-12-22T20:41:13.099376Z",
     "shell.execute_reply": "2024-12-22T20:41:13.097822Z",
     "shell.execute_reply.started": "2024-12-22T20:41:13.082466Z"
    },
    "jupyter": {
     "outputs_hidden": true
    },
    "trusted": true
   },
   "outputs": [],
   "source": [
    "print(os.listdir(save_dir))  # Manipüle edilmiş görüntülerin olduğu dosyaları listele"
   ]
  },
  {
   "cell_type": "code",
   "execution_count": null,
   "metadata": {
    "execution": {
     "iopub.execute_input": "2024-12-22T20:41:13.101032Z",
     "iopub.status.busy": "2024-12-22T20:41:13.100625Z",
     "iopub.status.idle": "2024-12-22T20:41:13.469450Z",
     "shell.execute_reply": "2024-12-22T20:41:13.468314Z",
     "shell.execute_reply.started": "2024-12-22T20:41:13.100984Z"
    },
    "trusted": true
   },
   "outputs": [],
   "source": [
    "# Manipüle edilmiş görüntülerin olduğu dizin\n",
    "manipulated_dir = '/kaggle/working/filtered_data'\n",
    "\n",
    "# İlk görüntüyü seç\n",
    "first_image_name = os.listdir(manipulated_dir)[0]  # İlk görüntü dosyasını seç\n",
    "first_image_path = os.path.join(manipulated_dir, first_image_name)\n",
    "\n",
    "# Orijinal ve manipüle edilmiş görüntüleri yükle\n",
    "original_image = cv2.imread(first_image_path)\n",
    "manipulated_image = cv2.convertScaleAbs(original_image, alpha=1.5, beta=0)\n",
    "\n",
    "# Görüntüleri göster\n",
    "plt.figure(figsize=(10, 5))\n",
    "\n",
    "# Orijinal görüntü\n",
    "plt.subplot(1, 2, 1)\n",
    "plt.title(\"Orijinal\")\n",
    "plt.imshow(cv2.cvtColor(original_image, cv2.COLOR_BGR2RGB))\n",
    "plt.axis('off')\n",
    "\n",
    "# Manipüle edilmiş görüntü\n",
    "plt.subplot(1, 2, 2)\n",
    "plt.title(\"Parlaklık Manipülasyonu\")\n",
    "plt.imshow(cv2.cvtColor(manipulated_image, cv2.COLOR_BGR2RGB))\n",
    "plt.axis('off')\n",
    "\n",
    "plt.show()"
   ]
  },
  {
   "cell_type": "markdown",
   "metadata": {},
   "source": [
    "Yukarıdaki görselde, test görüntülerinden birine parlaklık manipülasyonu uygulanmıştır. Soldaki görsel, manipülasyon öncesindeki orjinal görüntüdür Görsel normal parlaklık seviyesinde olup herhanbir bir işlem uygulanmamıştır. Sağdaki görsel, orjinal görüntüye 'alpha= 1.5' parlaklık faktörü kullanılarak manipüle edilmiştir.Görseldeki parlaklık artışı sayesinde detaylar daha belirgin hale gelmiştir. Renkler daha aydınlık bir tondadır."
   ]
  },
  {
   "cell_type": "code",
   "execution_count": null,
   "metadata": {
    "execution": {
     "iopub.execute_input": "2024-12-22T20:41:13.471120Z",
     "iopub.status.busy": "2024-12-22T20:41:13.470763Z",
     "iopub.status.idle": "2024-12-22T20:41:23.696712Z",
     "shell.execute_reply": "2024-12-22T20:41:23.695531Z",
     "shell.execute_reply.started": "2024-12-22T20:41:13.471087Z"
    },
    "trusted": true
   },
   "outputs": [],
   "source": [
    "# Orijinal test setini model üzerinde değerlendirin\n",
    "test_loss, original_test_accuracy = model.evaluate(X_test, y_test_encoded, verbose=1)\n",
    "\n",
    "# Doğruluk oranını yazdırın\n",
    "print(f\"Orijinal test doğruluğu: {original_test_accuracy * 100:.2f}%\")"
   ]
  },
  {
   "cell_type": "markdown",
   "metadata": {},
   "source": [
    "## 6) Modelin Manipüle Edilmiş Test Seti ile Denenmesi"
   ]
  },
  {
   "cell_type": "code",
   "execution_count": null,
   "metadata": {
    "execution": {
     "iopub.execute_input": "2024-12-22T20:41:23.698444Z",
     "iopub.status.busy": "2024-12-22T20:41:23.697994Z",
     "iopub.status.idle": "2024-12-22T20:41:50.945381Z",
     "shell.execute_reply": "2024-12-22T20:41:50.944006Z",
     "shell.execute_reply.started": "2024-12-22T20:41:23.698410Z"
    },
    "trusted": true
   },
   "outputs": [],
   "source": [
    "manipulated_test_images = np.array([preprocess_image(path, size=(128, 128)) for path in manipulated_paths])\n",
    "manipulated_test_labels = np.array(manipulated_labels)\n",
    "\n",
    "print(f\"Manipüle edilmiş test setinin görüntü boyutu: {manipulated_test_images.shape}\")\n",
    "print(f\"Manipüle edilmiş test setinin etiket boyutu: {manipulated_test_labels.shape}\")"
   ]
  },
  {
   "cell_type": "code",
   "execution_count": null,
   "metadata": {
    "execution": {
     "iopub.execute_input": "2024-12-22T20:41:50.947041Z",
     "iopub.status.busy": "2024-12-22T20:41:50.946636Z",
     "iopub.status.idle": "2024-12-22T20:42:12.094217Z",
     "shell.execute_reply": "2024-12-22T20:42:12.093033Z",
     "shell.execute_reply.started": "2024-12-22T20:41:50.946992Z"
    },
    "trusted": true
   },
   "outputs": [],
   "source": [
    "# Manipüle edilmiş test setini model üzerinde değerlendir\n",
    "test_loss, manipulated_test_accuracy = model.evaluate(manipulated_test_images, manipulated_test_labels, verbose=1)\n",
    "print(f\"Manipüle edilmiş test doğruluğu: {manipulated_test_accuracy * 100:.2f}%\")"
   ]
  },
  {
   "cell_type": "markdown",
   "metadata": {},
   "source": [
    "**Manipüle Edilmiş Test Seti Sonucu:**\n",
    "Manipüle edilmiş test seti üzerinde modelin doğruluğu **%10** seviyesinde ölçülmüştür. Bu, manipüle edilmiş veri üzerindeki düşük doğruluk oranını ve modelin bu tür verilere genelleme yeteneğinin sınırlı olduğunu göstermektedir.Manipüle edilmiş test seti, modelin eğitim sırasında gördüğü veri dağılımından farklıdır. Bu, modelin manipüle edilmiş verilere uyum sağlayamadığını ve sınıflandırma görevini doğru şekilde yerine getiremediğini göstermektedir.\n"
   ]
  },
  {
   "cell_type": "markdown",
   "metadata": {},
   "source": [
    "## **7) Manipüle Edilmiş Test Setine Renk Sabitliği Algoritması Uygulanması**"
   ]
  },
  {
   "cell_type": "code",
   "execution_count": 159,
   "metadata": {
    "execution": {
     "iopub.execute_input": "2024-12-22T20:42:12.095940Z",
     "iopub.status.busy": "2024-12-22T20:42:12.095607Z",
     "iopub.status.idle": "2024-12-22T20:42:12.103618Z",
     "shell.execute_reply": "2024-12-22T20:42:12.102272Z",
     "shell.execute_reply.started": "2024-12-22T20:42:12.095909Z"
    },
    "trusted": true
   },
   "outputs": [],
   "source": [
    "def get_wb_images(image_paths, save_dir):\n",
    "    \n",
    "    if not os.path.exists(save_dir):\n",
    "        os.makedirs(save_dir)\n",
    "\n",
    "    wb_images = []\n",
    "\n",
    "    for image_path in image_paths:\n",
    "        image = cv2.imread(image_path)\n",
    "        if image is None:\n",
    "            print(f\"Resim yüklenemedi: {image_path}\")\n",
    "            continue\n",
    "        image_name = os.path.basename(image_path).split('.')[0]\n",
    "        \n",
    "        # Gray World algoritması\n",
    "        result = cv2.xphoto.createGrayworldWB()\n",
    "        wb_image = result.balanceWhite(image)\n",
    "\n",
    "        save_path = os.path.join(save_dir, f\"{image_name}_wb.jpg\")\n",
    "        cv2.imwrite(save_path, wb_image)\n",
    "        wb_images.append(save_path)\n",
    "        print(f\"{save_path} kaydedildi.\")\n",
    "\n",
    "    return wb_images"
   ]
  },
  {
   "cell_type": "code",
   "execution_count": null,
   "metadata": {
    "collapsed": true,
    "execution": {
     "iopub.execute_input": "2024-12-22T20:42:12.105286Z",
     "iopub.status.busy": "2024-12-22T20:42:12.104867Z",
     "iopub.status.idle": "2024-12-22T20:43:02.807021Z",
     "shell.execute_reply": "2024-12-22T20:43:02.805724Z",
     "shell.execute_reply.started": "2024-12-22T20:42:12.105245Z"
    },
    "jupyter": {
     "outputs_hidden": true
    },
    "trusted": true
   },
   "outputs": [],
   "source": [
    "# Manipüle edilmiş test setinin dosya yolları\n",
    "manipulated_test_dir = '/kaggle/working/manipulated_test_images'  # Manipüle edilmiş test seti yolu\n",
    "save_dir_wb = '/kaggle/working/wb_test_images'  # Kaydedilecek renk sabitliği uygulanmış test seti\n",
    "\n",
    "# Gray World algoritması ile renk sabitliği uygula\n",
    "wb_image_paths = get_wb_images(manipulated_paths, save_dir_wb)\n",
    "\n",
    "# Renk sabitliği uygulanmış görüntü sayısını yazdır\n",
    "print(f\"Renk sabitliği uygulanmış görüntü sayısı: {len(wb_image_paths)}\")"
   ]
  },
  {
   "cell_type": "code",
   "execution_count": null,
   "metadata": {
    "execution": {
     "iopub.execute_input": "2024-12-22T20:43:02.808305Z",
     "iopub.status.busy": "2024-12-22T20:43:02.807937Z",
     "iopub.status.idle": "2024-12-22T20:43:27.084221Z",
     "shell.execute_reply": "2024-12-22T20:43:27.082449Z",
     "shell.execute_reply.started": "2024-12-22T20:43:02.808272Z"
    },
    "trusted": true
   },
   "outputs": [],
   "source": [
    "# Renk sabitliği uygulanmış görüntüleri normalize et\n",
    "wb_test_images = np.array([preprocess_image(path, size=(128, 128)) for path in wb_image_paths])\n",
    "wb_test_labels = np.array(manipulated_labels)  # Manipüle edilmiş test setinin etiketlerini kullan\n",
    "\n",
    "# Boyutları kontrol et\n",
    "print(f\"Renk sabitliği uygulanmış test setinin görüntü boyutu: {wb_test_images.shape}\")\n",
    "print(f\"Renk sabitliği uygulanmış test setinin etiket boyutu: {wb_test_labels.shape}\")"
   ]
  },
  {
   "cell_type": "markdown",
   "metadata": {},
   "source": [
    "## **8) Modelin Renk Sabitliği Uygulanmış Test Seti ile Denenmesi**"
   ]
  },
  {
   "cell_type": "code",
   "execution_count": null,
   "metadata": {
    "execution": {
     "iopub.execute_input": "2024-12-22T20:43:27.086530Z",
     "iopub.status.busy": "2024-12-22T20:43:27.085791Z",
     "iopub.status.idle": "2024-12-22T20:43:49.559448Z",
     "shell.execute_reply": "2024-12-22T20:43:49.558278Z",
     "shell.execute_reply.started": "2024-12-22T20:43:27.086484Z"
    },
    "trusted": true
   },
   "outputs": [],
   "source": [
    "# Renk sabitliği uygulanmış test setini model üzerinde değerlendir\n",
    "test_loss, wb_test_accuracy = model.evaluate(wb_test_images, wb_test_labels, verbose=1)\n",
    "print(f\"Renk sabitliği uygulanmış test doğruluğu: {wb_test_accuracy * 100:.2f}%\")"
   ]
  },
  {
   "cell_type": "markdown",
   "metadata": {},
   "source": [
    "## **9) Farklı Test Setlerinin Başarılarını Karşılaştırma ve Raporlama**"
   ]
  },
  {
   "cell_type": "code",
   "execution_count": null,
   "metadata": {
    "execution": {
     "iopub.execute_input": "2024-12-22T20:43:49.560941Z",
     "iopub.status.busy": "2024-12-22T20:43:49.560582Z",
     "iopub.status.idle": "2024-12-22T20:43:49.741093Z",
     "shell.execute_reply": "2024-12-22T20:43:49.739744Z",
     "shell.execute_reply.started": "2024-12-22T20:43:49.560901Z"
    },
    "trusted": true
   },
   "outputs": [],
   "source": [
    "# Doğruluk oranları\n",
    "accuracies = [original_test_accuracy * 100, manipulated_test_accuracy * 100, wb_test_accuracy * 100]\n",
    "labels = [\"Orijinal Test Seti\", \"Manipüle Edilmiş Test Seti\", \"Renk Sabitliği Uygulanmış Test Seti\"]\n",
    "\n",
    "# Grafik oluşturma\n",
    "plt.figure(figsize=(10, 6))\n",
    "plt.bar(labels, accuracies, color=['blue', 'orange', 'green'])\n",
    "plt.ylabel(\"Doğruluk Oranı (%)\")\n",
    "plt.title(\"Farklı Test Setlerinin Doğruluk Oranları\")\n",
    "plt.ylim(0, 100)\n",
    "plt.show()"
   ]
  },
  {
   "cell_type": "markdown",
   "metadata": {},
   "source": [
    "## **Raporlama ve Analiz**\n",
    "Yukarıdaki grafikte, üç farklı test setinin doğruluk oranları karşılaştırılmıştır:\n",
    "\n",
    "1. **Orijinal Test Seti**: Modelin, orijinal test seti üzerindeki doğruluk oranı %61 seviyesinde ölçülmüştür. Model, orijinal test setinde yeterli performans göstermektedir. %50'nin üzerinde bir doğruluk oranı elde edilmiştir. Bu, modelin eğitim süreci ve veri seti üzerindeki performansının tatmin edici olduğunu göstermektedir.\n",
    "   \n",
    "2. **Manipüle Edilmiş Test Seti**: Manipüle edilmiş test seti (farklı parlaklık değerleri uygulanan), model doğruluk oranında ciddi bir düşüşe neden olmuştur (%10 seviyesinde). Manipüle edilmiş test seti üzerinde doğruluk oranı oldukça düşüktür. Bu, modelin veri manipülasyonlarına karşı dayanıklı olmadığını ve parlaklık değişiklikleri gibi faktörlerin sınıflandırma doğruluğunu ciddi şekilde azalttığını göstermektedir.\n",
    "\n",
    "3. **Renk Sabitliği Uygulanmış Test Seti**: Gray World algoritması ile renk sabitliği uygulanmış test setinde de düşük doğruluk oranı elde edilmiştir. Bu, renk sabitliği algoritmasının tek başına model performansını iyileştirmekte yeterli olmadığını göstermektedir.\n",
    "\n",
    "**Düşük Sonuçların Nedenleri:**\n",
    "- Modelin karmaşıklığı manipüle edilmiş verilerle başa çıkabilecek seviyede olmayabilir. CNN mimarisi, veri manipülasyonlarına ve parlaklık değişikliklerine karşı daha dayanıklı olacak şekilde geliştirilebilir.\n",
    "- Model, eğitim verisine fazla uyum sağlamış olabilir. Bu da test verisi üzerindeki performansın düşmesine neden olabilir.\n",
    "\n",
    "**İyileştirme Önerileri:**\n",
    "* Eğitim sırasında veri çeşitliliğini artırmak için veri artırma (data augmentation) tekniklerini kullanabiliriz. (Brightness Range,Rotation, Shear, Zoom vb)\n",
    "* Model karmaşıklığını arttırmak için ekstra katmanlar ekleyebilir, dropout arttırarak overfitting'i azaltabiliriz.\n",
    "\n",
    "## **Sonuç**\n",
    "Bu projede, modelin orijinal test setinde başarılı bir performans sergilemesine rağmen manipüle edilmiş ve renk sabitliği uygulanmış test setlerinde düşük sonuçlar elde edilmiştir. Bu durum, modelin veri çeşitliliği ve dayanıklılık konularında iyileştirilmesi gerektiğini göstermektedir. Yukarıdaki öneriler uygulanarak modelin manipülasyonlara karşı performansı artırılabilir."
   ]
  }
 ],
 "metadata": {
  "kaggle": {
   "accelerator": "none",
   "dataSources": [
    {
     "datasetId": 1408532,
     "sourceId": 2333429,
     "sourceType": "datasetVersion"
    }
   ],
   "dockerImageVersionId": 30822,
   "isGpuEnabled": false,
   "isInternetEnabled": true,
   "language": "python",
   "sourceType": "notebook"
  },
  "kernelspec": {
   "display_name": "Python 3",
   "language": "python",
   "name": "python3"
  },
  "language_info": {
   "codemirror_mode": {
    "name": "ipython",
    "version": 3
   },
   "file_extension": ".py",
   "mimetype": "text/x-python",
   "name": "python",
   "nbconvert_exporter": "python",
   "pygments_lexer": "ipython3",
   "version": "3.10.12"
  }
 },
 "nbformat": 4,
 "nbformat_minor": 4
}
