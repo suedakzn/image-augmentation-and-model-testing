{
 "cells": [
  {
   "cell_type": "code",
   "execution_count": null,
   "metadata": {
    "_cell_guid": "b1076dfc-b9ad-4769-8c92-a6c4dae69d19",
    "_uuid": "8f2839f25d086af736a60e9eeb907d3b93b6e0e5",
    "collapsed": true,
    "execution": {
     "iopub.execute_input": "2024-12-22T14:37:24.732495Z",
     "iopub.status.busy": "2024-12-22T14:37:24.732042Z",
     "iopub.status.idle": "2024-12-22T14:39:19.709039Z",
     "shell.execute_reply": "2024-12-22T14:39:19.705091Z",
     "shell.execute_reply.started": "2024-12-22T14:37:24.732456Z"
    },
    "jupyter": {
     "outputs_hidden": true
    },
    "trusted": true
   },
   "outputs": [],
   "source": [
    "import numpy as np # linear algebra\n",
    "import pandas as pd # data processing, CSV file I/O (e.g. pd.read_csv)\n",
    "import shutil\n",
    "import cv2\n",
    "import tensorflow as tf\n",
    "from sklearn.model_selection import train_test_split\n",
    "import matplotlib.pyplot as plt\n",
    "import random\n",
    "from PIL import Image, ImageEnhance\n",
    "import os\n",
    "for dirname, _, filenames in os.walk('/kaggle/input'):\n",
    "    for filename in filenames:\n",
    "        print(os.path.join(dirname, filename))\n",
    "\n",
    "# You can write up to 20GB to the current directory (/kaggle/working/) that gets preserved as output when you create a version using \"Save & Run All\" \n",
    "# You can also write temporary files to /kaggle/temp/, but they won't be saved outside of the current session"
   ]
  },
  {
   "cell_type": "markdown",
   "metadata": {},
   "source": [
    "## 2) Veri Setini Hazırlama"
   ]
  },
  {
   "cell_type": "markdown",
   "metadata": {},
   "source": [
    "### Veri setinin dosya yapısını inceleme\n",
    "1) **Base Directory Kontrolü:** Veri setinin bulunduğu ana klasörü listeledim ve içinde hangi alt klasör olduğunu kontrol ettim.Bu, veri setine doğru şekilde eriştiğimi doğrulamak için önemli bir adım.\n",
    "2) **Alt Klasörlerin ve Dosyaların Listelenmesi:** Ana klasör içindeki alt klasörü ('Animals_with_Attributes2') listeleyerek veri setinin yapısını anlamaya çalıştım. Doğru klasöre erişim sağladığımdan emin oldum.\n",
    "3) **JPEGImages Klasöründeki Hayvan Sınıflarını Listeleme:** Hayvan görüntülerinin yer aldığı `JPEGImages` klasörünü listeledim ve içindeki sınıfları inceledim.Bu, sınıflandırma yapacağım veri setini anlamama yardımcı oldu."
   ]
  },
  {
   "cell_type": "code",
   "execution_count": null,
   "metadata": {
    "execution": {
     "iopub.execute_input": "2024-12-22T14:39:19.711763Z",
     "iopub.status.busy": "2024-12-22T14:39:19.710800Z",
     "iopub.status.idle": "2024-12-22T14:39:19.719367Z",
     "shell.execute_reply": "2024-12-22T14:39:19.718067Z",
     "shell.execute_reply.started": "2024-12-22T14:39:19.711719Z"
    },
    "trusted": true
   },
   "outputs": [],
   "source": [
    "# Base Directory Kontrolü\n",
    "base_dir = '/kaggle/input/animals-with-attributes-2'\n",
    "print(os.listdir(base_dir))  # Bu klasörde hangi dosyalar var?"
   ]
  },
  {
   "cell_type": "code",
   "execution_count": null,
   "metadata": {
    "execution": {
     "iopub.execute_input": "2024-12-22T14:39:19.722492Z",
     "iopub.status.busy": "2024-12-22T14:39:19.721998Z",
     "iopub.status.idle": "2024-12-22T14:39:19.741032Z",
     "shell.execute_reply": "2024-12-22T14:39:19.739444Z",
     "shell.execute_reply.started": "2024-12-22T14:39:19.722448Z"
    },
    "trusted": true
   },
   "outputs": [],
   "source": [
    "# Alt Klasörlerin ve Dosyaların Listelenmesi\n",
    "sub_dir = '/kaggle/input/animals-with-attributes-2/Animals_with_Attributes2'\n",
    "print(os.listdir(sub_dir))  # Alt klasörleri ve dosyaları listeleme"
   ]
  },
  {
   "cell_type": "code",
   "execution_count": null,
   "metadata": {
    "execution": {
     "iopub.execute_input": "2024-12-22T14:39:19.743882Z",
     "iopub.status.busy": "2024-12-22T14:39:19.743383Z",
     "iopub.status.idle": "2024-12-22T14:39:19.761940Z",
     "shell.execute_reply": "2024-12-22T14:39:19.760415Z",
     "shell.execute_reply.started": "2024-12-22T14:39:19.743833Z"
    },
    "trusted": true
   },
   "outputs": [],
   "source": [
    "# JPEGImages Klasöründeki Hayvan Sınıflarını Listeleme\n",
    "image_dir = '/kaggle/input/animals-with-attributes-2/Animals_with_Attributes2/JPEGImages'\n",
    "print(os.listdir(image_dir))  # Hayvan sınıflarını listeleme"
   ]
  },
  {
   "cell_type": "markdown",
   "metadata": {},
   "source": [
    "### Gerekli Sınıfları Kontrol Etme\n",
    "Projede dosyasında belirtilen ve kullanılacak olan 10 sınıfın 'JPEGImages' klasöründe bulunup bulunmadığını kontrol ettim. Bu adım, veri setindeki doğru sınıflarla çalışmaya başlayabilmek için önemli."
   ]
  },
  {
   "cell_type": "code",
   "execution_count": 5,
   "metadata": {
    "execution": {
     "iopub.execute_input": "2024-12-22T14:39:19.763786Z",
     "iopub.status.busy": "2024-12-22T14:39:19.763319Z",
     "iopub.status.idle": "2024-12-22T14:39:19.781721Z",
     "shell.execute_reply": "2024-12-22T14:39:19.780331Z",
     "shell.execute_reply.started": "2024-12-22T14:39:19.763745Z"
    },
    "trusted": true
   },
   "outputs": [],
   "source": [
    "# Kullanılacak sınıflar\n",
    "selected_classes = ['collie', 'dolphin', 'elephant', 'fox', 'moose', 'rabbit', 'sheep', 'squirrel', 'giant+panda', 'polar+bear']"
   ]
  },
  {
   "cell_type": "code",
   "execution_count": null,
   "metadata": {
    "execution": {
     "iopub.execute_input": "2024-12-22T14:39:19.783583Z",
     "iopub.status.busy": "2024-12-22T14:39:19.783160Z",
     "iopub.status.idle": "2024-12-22T14:39:19.808851Z",
     "shell.execute_reply": "2024-12-22T14:39:19.807646Z",
     "shell.execute_reply.started": "2024-12-22T14:39:19.783545Z"
    },
    "trusted": true
   },
   "outputs": [],
   "source": [
    "for class_name in selected_classes:\n",
    "    if class_name in os.listdir(image_dir):\n",
    "        print(f\"{class_name} klasörü bulundu.\")\n",
    "    else:\n",
    "        print(f\"{class_name} klasörü bulunamadı!\")"
   ]
  },
  {
   "cell_type": "markdown",
   "metadata": {},
   "source": [
    "### Gerekli görüntüleri seç ve yeni klasöre  kopyala\n",
    "Projede kullanılacak olan 10 sınıf için her sınıftan sadece ilk 650 görüntüyü seçip yeni bir klasöre (*filtered_dir*) kopyaladım ve sonrasında yeni klasördeki sınıfları ve görüntü sayılarını kontrol ettim. Veri setindeki sınıfların dengeli olmasını sağlamak için önemli bir adım."
   ]
  },
  {
   "cell_type": "code",
   "execution_count": 7,
   "metadata": {
    "execution": {
     "iopub.execute_input": "2024-12-22T14:39:19.811027Z",
     "iopub.status.busy": "2024-12-22T14:39:19.810477Z",
     "iopub.status.idle": "2024-12-22T14:39:19.817269Z",
     "shell.execute_reply": "2024-12-22T14:39:19.816021Z",
     "shell.execute_reply.started": "2024-12-22T14:39:19.810983Z"
    },
    "trusted": true
   },
   "outputs": [],
   "source": [
    "# Yeni bir hedef klasör oluşturuldu\n",
    "filtered_dir = '/kaggle/working/filtered_data'\n",
    "os.makedirs(filtered_dir, exist_ok=True)"
   ]
  },
  {
   "cell_type": "code",
   "execution_count": 8,
   "metadata": {
    "execution": {
     "iopub.execute_input": "2024-12-22T14:39:19.818819Z",
     "iopub.status.busy": "2024-12-22T14:39:19.818424Z",
     "iopub.status.idle": "2024-12-22T14:39:49.530412Z",
     "shell.execute_reply": "2024-12-22T14:39:49.528896Z",
     "shell.execute_reply.started": "2024-12-22T14:39:19.818791Z"
    },
    "trusted": true
   },
   "outputs": [],
   "source": [
    "for class_name in selected_classes:\n",
    "    source_class_dir = os.path.join(image_dir, class_name) # Orjinal sınıf klasörü\n",
    "    target_class_dir = os.path.join(filtered_dir, class_name) # Yeni hedef klasör\n",
    "    os.makedirs(target_class_dir, exist_ok = True) # Hedef klasör oluşturma\n",
    "\n",
    "    # Her sınıf için ilk 650 görüntüyü seç ve yeni klasöre kopyala\n",
    "    images = os.listdir(source_class_dir)[:650]\n",
    "    for image_name in images:\n",
    "        shutil.copy(os.path.join(source_class_dir, image_name), target_class_dir)"
   ]
  },
  {
   "cell_type": "code",
   "execution_count": null,
   "metadata": {
    "execution": {
     "iopub.execute_input": "2024-12-22T14:39:49.534803Z",
     "iopub.status.busy": "2024-12-22T14:39:49.534361Z",
     "iopub.status.idle": "2024-12-22T14:39:49.549007Z",
     "shell.execute_reply": "2024-12-22T14:39:49.547240Z",
     "shell.execute_reply.started": "2024-12-22T14:39:49.534768Z"
    },
    "trusted": true
   },
   "outputs": [],
   "source": [
    "# Yeni klasördeki sınıfları ve görüntü sayısını kontrol etme\n",
    "for class_name in selected_classes:\n",
    "    class_dir = os.path.join(filtered_dir, class_name)\n",
    "    print(f\"{class_name}: {len(os.listdir(class_dir))} images\")"
   ]
  },
  {
   "cell_type": "markdown",
   "metadata": {},
   "source": [
    "### Tüm görüntüleri aynı boyuta getir ve normalize et"
   ]
  },
  {
   "cell_type": "code",
   "execution_count": 10,
   "metadata": {
    "execution": {
     "iopub.execute_input": "2024-12-22T14:39:49.551533Z",
     "iopub.status.busy": "2024-12-22T14:39:49.551098Z",
     "iopub.status.idle": "2024-12-22T14:39:49.561970Z",
     "shell.execute_reply": "2024-12-22T14:39:49.560709Z",
     "shell.execute_reply.started": "2024-12-22T14:39:49.551459Z"
    },
    "trusted": true
   },
   "outputs": [],
   "source": [
    "import cv2\n",
    "def preprocess_image(image_path, size = (128,128)):\n",
    "    image = cv2.imread(image_path)\n",
    "    image_resized = cv2.resize(image,size)\n",
    "    image_normalized = image_resized / 255.0\n",
    "    return image_normalized"
   ]
  },
  {
   "cell_type": "code",
   "execution_count": 11,
   "metadata": {
    "execution": {
     "iopub.execute_input": "2024-12-22T14:39:49.563356Z",
     "iopub.status.busy": "2024-12-22T14:39:49.563019Z",
     "iopub.status.idle": "2024-12-22T14:41:05.367304Z",
     "shell.execute_reply": "2024-12-22T14:41:05.366023Z",
     "shell.execute_reply.started": "2024-12-22T14:39:49.563328Z"
    },
    "trusted": true
   },
   "outputs": [],
   "source": [
    "X = []  # Görüntü veri seti\n",
    "y = []  # Etiketler\n",
    "\n",
    "for idx, class_name in enumerate(selected_classes):\n",
    "    class_dir = os.path.join(filtered_dir, class_name)\n",
    "    for image_name in os.listdir(class_dir):\n",
    "        image_path = os.path.join(class_dir, image_name)\n",
    "        processed_image = preprocess_image(image_path)\n",
    "        X.append(processed_image)\n",
    "        y.append(idx)\n"
   ]
  },
  {
   "cell_type": "code",
   "execution_count": null,
   "metadata": {
    "execution": {
     "iopub.execute_input": "2024-12-22T14:41:05.368931Z",
     "iopub.status.busy": "2024-12-22T14:41:05.368598Z",
     "iopub.status.idle": "2024-12-22T14:41:07.481815Z",
     "shell.execute_reply": "2024-12-22T14:41:07.480595Z",
     "shell.execute_reply.started": "2024-12-22T14:41:05.368904Z"
    },
    "trusted": true
   },
   "outputs": [],
   "source": [
    "# Listeleri numpy dizilerine dönüştür\n",
    "X = np.array(X)\n",
    "y = np.array(y)\n",
    "\n",
    "# İşlemlerin sonuçlarını kontrol et\n",
    "print(f\"Toplam görüntü sayısı: {len(X)}\")\n",
    "print(f\"Görüntü boyutları: {X[0].shape}\")\n",
    "print(f\"Toplam etiket sayısı: {len(y)}\")"
   ]
  },
  {
   "cell_type": "markdown",
   "metadata": {},
   "source": [
    "#### Veri İşleme Sonuçları \n",
    "\n",
    "Aşağıdaki sonuçlar, görüntülerin işlenip boyutlandırılması ve etiketlenmesi sonrasında elde edilmiştir:\n",
    "\n",
    "1. Toplam görüntü sayısı: **6500**\n",
    "- Her sınıf için(10 sınıf) **650 görüntü** işlenmiştir. (10 x 650= 6500)\n",
    "- Modelin her sınıfa eşit derecede öğrenme şansı olması sağlandı\n",
    "\n",
    "2. Görüntü boyutları: **(128,128,3)**\n",
    "- Tüm görüntüler 128x128 piksel boyutunda yeniden boyutlandırılmıştır.\n",
    "- *3*: Görüntülerin renkli olduğunu ifade eder. (RGB renk kanalları: kırmızı, yeşil, mavi)\n",
    "\n",
    "3. Toplam etiket sayısı: **6500**\n",
    "- Her görüntüye bir sınıf etiketi atanmıştır.\n",
    "- Etiketlerin sayısı ile toplam görüntü sayısı aynıdır. Bunun anlamı, veri işleme sırasında herhangi bir eksik görüntü veya etiket olmadığını doğrular. Eğitim aşamasına geçmeye hazır olduğumu göstermektedir."
   ]
  },
  {
   "cell_type": "markdown",
   "metadata": {},
   "source": [
    "### Veriyi train(eğitim) ve test setlerine ayırma\n",
    "Veri setini %70 eğitim ve %30 test olacak şekilde ikiye böldüm. Bu işlem, modelin eğitim ve değerlendirme için ayrı veri setlerinde çalışmasını sağlar."
   ]
  },
  {
   "cell_type": "markdown",
   "metadata": {},
   "source": [
    "#### Önemli: Rastgelelik Sabitlemesi\n",
    "Bu projede sonuçların tekrar edilebilirliğini sağlamak ve modelin eğitim sürecini sabit bir temel üzerinden değerlendirebilmek için rastgelelik kaynakları sabitlenmiştir."
   ]
  },
  {
   "cell_type": "code",
   "execution_count": null,
   "metadata": {
    "execution": {
     "iopub.execute_input": "2024-12-22T14:41:07.483383Z",
     "iopub.status.busy": "2024-12-22T14:41:07.483001Z",
     "iopub.status.idle": "2024-12-22T14:41:08.450781Z",
     "shell.execute_reply": "2024-12-22T14:41:08.449610Z",
     "shell.execute_reply.started": "2024-12-22T14:41:07.483351Z"
    },
    "trusted": true
   },
   "outputs": [],
   "source": [
    "# Rastgelelik kaynaklarını sabitle\n",
    "random.seed(42)\n",
    "np.random.seed(42)\n",
    "tf.random.set_seed(42)\n",
    "\n",
    "# Görüntüleri eğitim ve test setine ayır\n",
    "X_train, X_test, y_train, y_test = train_test_split(X, y, test_size=0.3, random_state=42)\n",
    "# Sonuçları yazdır\n",
    "print(f\"Eğitim seti boyutu: {len(X_train)} görüntü\")\n",
    "print(f\"Test seti boyutu: {len(X_test)} görüntü\")\n",
    "print(f\"Eğitim etiketleri: {len(y_train)}\")\n",
    "print(f\"Test etiketleri: {len(y_test)}\")"
   ]
  },
  {
   "cell_type": "markdown",
   "metadata": {},
   "source": [
    "### Eğitim setine veri arttırma(Augmentation) uygulama"
   ]
  },
  {
   "cell_type": "markdown",
   "metadata": {},
   "source": [
    "#### **1. Bulanıklaştırma**"
   ]
  },
  {
   "cell_type": "code",
   "execution_count": 14,
   "metadata": {
    "execution": {
     "iopub.execute_input": "2024-12-22T14:41:08.452125Z",
     "iopub.status.busy": "2024-12-22T14:41:08.451858Z",
     "iopub.status.idle": "2024-12-22T14:41:08.457444Z",
     "shell.execute_reply": "2024-12-22T14:41:08.455855Z",
     "shell.execute_reply.started": "2024-12-22T14:41:08.452102Z"
    },
    "trusted": true
   },
   "outputs": [],
   "source": [
    "def blur_image(image):\n",
    "    return cv2.GaussianBlur(image, (5,5), 0)"
   ]
  },
  {
   "cell_type": "markdown",
   "metadata": {},
   "source": [
    "#### **2. Kenar Bulma**"
   ]
  },
  {
   "cell_type": "code",
   "execution_count": 15,
   "metadata": {
    "execution": {
     "iopub.execute_input": "2024-12-22T14:41:08.458981Z",
     "iopub.status.busy": "2024-12-22T14:41:08.458618Z",
     "iopub.status.idle": "2024-12-22T14:41:08.477977Z",
     "shell.execute_reply": "2024-12-22T14:41:08.476534Z",
     "shell.execute_reply.started": "2024-12-22T14:41:08.458942Z"
    },
    "trusted": true
   },
   "outputs": [],
   "source": [
    "def edge_detection(image):\n",
    "    gray = cv2.cvtColor((image * 255).astype('uint8'), cv2.COLOR_BGR2GRAY) # siyah-beyaz çevirme\n",
    "    edges = cv2.Canny(gray, 100, 200) # kenar bulma\n",
    "    return edges"
   ]
  },
  {
   "cell_type": "markdown",
   "metadata": {},
   "source": [
    "#### **3.Yeniden Boyutlandırma**"
   ]
  },
  {
   "cell_type": "code",
   "execution_count": 16,
   "metadata": {
    "execution": {
     "iopub.execute_input": "2024-12-22T14:41:08.479894Z",
     "iopub.status.busy": "2024-12-22T14:41:08.479445Z",
     "iopub.status.idle": "2024-12-22T14:41:08.501370Z",
     "shell.execute_reply": "2024-12-22T14:41:08.499701Z",
     "shell.execute_reply.started": "2024-12-22T14:41:08.479851Z"
    },
    "trusted": true
   },
   "outputs": [],
   "source": [
    "def resize_image(image, size= (64,64)):\n",
    "    return cv2.resize(image, size)"
   ]
  },
  {
   "cell_type": "markdown",
   "metadata": {},
   "source": [
    "#### **4. Döndürme**"
   ]
  },
  {
   "cell_type": "code",
   "execution_count": 17,
   "metadata": {
    "execution": {
     "iopub.execute_input": "2024-12-22T14:41:08.503141Z",
     "iopub.status.busy": "2024-12-22T14:41:08.502782Z",
     "iopub.status.idle": "2024-12-22T14:41:08.523958Z",
     "shell.execute_reply": "2024-12-22T14:41:08.522482Z",
     "shell.execute_reply.started": "2024-12-22T14:41:08.503112Z"
    },
    "trusted": true
   },
   "outputs": [],
   "source": [
    "# Görüntüyü 30 derece döndürme\n",
    "def rotate_image(image, angle = 30):\n",
    "    (h,w) = image.shape[:2] # görüntünün ilk 2 boyutunu alma(yükseklik ve genişlik)\n",
    "    center = ( w // 2, h // 2) # görüntünün merkezini hesaplama\n",
    "    matrix = cv2.getRotationMatrix2D(center, angle, 1.0)\n",
    "    rotated = cv2.warpAffine(image, matrix, (w,h)) # görüntüyü döndürmek için hesaplanan matrisi uygula\n",
    "    return rotated"
   ]
  },
  {
   "cell_type": "markdown",
   "metadata": {},
   "source": [
    "#### **5. Gürültü Ekleme**"
   ]
  },
  {
   "cell_type": "code",
   "execution_count": 18,
   "metadata": {
    "execution": {
     "iopub.execute_input": "2024-12-22T14:41:08.525728Z",
     "iopub.status.busy": "2024-12-22T14:41:08.525197Z",
     "iopub.status.idle": "2024-12-22T14:41:08.543135Z",
     "shell.execute_reply": "2024-12-22T14:41:08.541917Z",
     "shell.execute_reply.started": "2024-12-22T14:41:08.525693Z"
    },
    "trusted": true
   },
   "outputs": [],
   "source": [
    "def add_noise(image):\n",
    "    noise = np.random.normal(0, 0.05, image.shape)\n",
    "    noisy_image = np.clip(image + noise, 0, 1) # piksel değerleri 0-1 arasında sınırlandırıldı(0dan küçükse 0, 1den büyükse 1)\n",
    "    return noisy_image"
   ]
  },
  {
   "cell_type": "markdown",
   "metadata": {},
   "source": [
    "#### **Tüm Manipülasyon Teknikleri Eğitim Setine Uygulama**"
   ]
  },
  {
   "cell_type": "code",
   "execution_count": null,
   "metadata": {
    "execution": {
     "iopub.execute_input": "2024-12-22T14:41:08.544706Z",
     "iopub.status.busy": "2024-12-22T14:41:08.544349Z",
     "iopub.status.idle": "2024-12-22T14:41:37.622702Z",
     "shell.execute_reply": "2024-12-22T14:41:37.621311Z",
     "shell.execute_reply.started": "2024-12-22T14:41:08.544665Z"
    },
    "trusted": true
   },
   "outputs": [],
   "source": [
    "augmented_images = [] # manipüle edilmiş görüntülerin saklanacağı liste\n",
    "\n",
    "# Tüm eğitim setine manipülasyon uygula\n",
    "for idx in range(len(X_train)): # tüm eğitim seti\n",
    "    \n",
    "    original_image = X_train[idx]\n",
    "\n",
    "    # manipülasyon işlemleri\n",
    "    blurred = blur_image(original_image)\n",
    "    edges = edge_detection(original_image)\n",
    "    resized = resize_image(original_image)\n",
    "    rotated = rotate_image(original_image)\n",
    "    noisy = add_noise(original_image)\n",
    "\n",
    "    # manipülasyon işlemlerini kaydet\n",
    "    augmented_images.append({\n",
    "        \"original\": original_image,\n",
    "        \"blurred\": blurred,\n",
    "        \"edges\": edges,\n",
    "        \"resized\": resized,\n",
    "        \"rotated\": rotated,\n",
    "        \"noisy\": noisy\n",
    "    })\n",
    "    \n",
    "print(\"Tüm eğitim manipülasyonu işlemi başarıyla tamamlandı!\")"
   ]
  },
  {
   "cell_type": "code",
   "execution_count": null,
   "metadata": {
    "execution": {
     "iopub.execute_input": "2024-12-22T14:41:37.624255Z",
     "iopub.status.busy": "2024-12-22T14:41:37.623961Z",
     "iopub.status.idle": "2024-12-22T14:41:38.981217Z",
     "shell.execute_reply": "2024-12-22T14:41:38.979155Z",
     "shell.execute_reply.started": "2024-12-22T14:41:37.624229Z"
    },
    "trusted": true
   },
   "outputs": [],
   "source": [
    "result = augmented_images[0] # listenin ilk elemanını al\n",
    "\n",
    "fig, axs = plt.subplots(1, 6, figsize = (20,5)) # 1 satır, 6 sütundan oluşan ve her sütun bir manipüle edilmiş görüntüyü temsil eder\n",
    "axs[0].imshow(result[\"original\"]) # ilk manipüle edilmiş görüntünün orjinal halini göster\n",
    "axs[0].set_title(\"Original\")\n",
    "\n",
    "axs[1].imshow(result[\"blurred\"])\n",
    "axs[1].set_title(\"Bulanık\")\n",
    "\n",
    "axs[2].imshow(result[\"edges\"], cmap=\"gray\") \n",
    "axs[2].set_title(\"Kenar Bulma\")\n",
    "\n",
    "axs[3].imshow(result[\"resized\"])\n",
    "axs[3].set_title(\"Yeniden Boyutlandır\")\n",
    "\n",
    "axs[4].imshow(result[\"rotated\"])\n",
    "axs[4].set_title(\"Döndürme\")\n",
    "\n",
    "axs[5].imshow(result[\"noisy\"])\n",
    "axs[5].set_title(\"Gürültü\")\n",
    "\n"
   ]
  },
  {
   "cell_type": "code",
   "execution_count": null,
   "metadata": {
    "execution": {
     "iopub.execute_input": "2024-12-22T14:41:38.983771Z",
     "iopub.status.busy": "2024-12-22T14:41:38.983131Z",
     "iopub.status.idle": "2024-12-22T14:41:40.295582Z",
     "shell.execute_reply": "2024-12-22T14:41:40.293609Z",
     "shell.execute_reply.started": "2024-12-22T14:41:38.983720Z"
    },
    "trusted": true
   },
   "outputs": [],
   "source": [
    "result = augmented_images[0] # listenin ilk elemanını al\n",
    "\n",
    "fig, axs = plt.subplots(1, 6, figsize = (20,5)) # 1 satır, 6 sütundan oluşan ve her sütun bir manipüle edilmiş görüntüyü temsil eder\n",
    "axs[0].imshow(result[\"original\"]) # ilk manipüle edilmiş görüntünün orjinal halini göster\n",
    "axs[0].set_title(\"Original\")\n",
    "\n",
    "axs[1].imshow(result[\"blurred\"])\n",
    "axs[1].set_title(\"Bulanık\")\n",
    "\n",
    "axs[2].imshow(result[\"edges\"], cmap=\"gray\") \n",
    "axs[2].set_title(\"Kenar Bulma\")\n",
    "\n",
    "axs[3].imshow(result[\"resized\"])\n",
    "axs[3].set_title(\"Yeniden Boyutlandır\")\n",
    "\n",
    "axs[4].imshow(result[\"rotated\"])\n",
    "axs[4].set_title(\"Döndürme\")\n",
    "\n",
    "axs[5].imshow(result[\"noisy\"])\n",
    "axs[5].set_title(\"Gürültü\") \n",
    "\n",
    "for ax in axs:\n",
    "    ax.axis(\"off\")\n",
    "plt.tight_layout()\n",
    "plt.show()"
   ]
  },
  {
   "cell_type": "markdown",
   "metadata": {},
   "source": [
    "## **3) CNN Modeli Tasarlama**\n",
    "\n",
    "Bu model, hem düşük seviyeli hem de yüksek seviyeli özellikleri öğrenerek 10 sınıfa ait hayvan görüntülerini doğru bir şekilde sınıflandırmayı hedeflemektedir. Dropout kullanılarak aşırı öğrenme engellenmiş, softmax aktivasyonu ile sınıf olasılıkları hesaplanmıştır."
   ]
  },
  {
   "cell_type": "code",
   "execution_count": 22,
   "metadata": {
    "execution": {
     "iopub.execute_input": "2024-12-22T14:41:40.297250Z",
     "iopub.status.busy": "2024-12-22T14:41:40.296919Z",
     "iopub.status.idle": "2024-12-22T14:41:40.319743Z",
     "shell.execute_reply": "2024-12-22T14:41:40.317181Z",
     "shell.execute_reply.started": "2024-12-22T14:41:40.297213Z"
    },
    "trusted": true
   },
   "outputs": [],
   "source": [
    "from tensorflow.keras.models import Sequential\n",
    "from tensorflow.keras.layers import Conv2D, MaxPooling2D, Flatten, Dense, Dropout\n",
    "from tensorflow.keras.optimizers import Adam"
   ]
  },
  {
   "cell_type": "markdown",
   "metadata": {},
   "source": [
    "### **Model Katmanları**\n",
    "1. **Conv2D Katmanları (Konvolüsyon):***\n",
    "- Görüntüden özellikleri çıkarmak için kullanılır.\n",
    "- Modelde 3 kovülasyon katmanı bulunmaktadır.\n",
    "  1) İlk katman temel özellikleri (kenarlar, köşeler)\n",
    "  2) İkinci katman orta seviyeli özellikler\n",
    "  3) Üçüncü katman ise daha karmaşık, yüksek seviyeli özellikler\n",
    "\n",
    "2. **MaxPooling2D Katmanları (Havuzlama):**\n",
    "- Görüntü boyutlarını küçültmek ve modelin hesaplama maliyetini azaltmak için kullanılır.\n",
    "- Her kovülasyon katmanının ardından bir max pooling katmanı eklenmiştir.\n",
    "\n",
    "3. **Flatten Katmanı:**\n",
    "- Konvülasyon ve havuzlama katmanlarının çıktısını düzleştirerek fully connected katmanlara hazırlar.\n",
    "\n",
    "4. **Dense Katmanları (Tam Bağlantılı):**\n",
    "- Öğrenilen özellikleri sınıflandırma işlemine dönüştürmek için kullanılır.\n",
    "- Son katman, *\"softmax\"* aktivasyon fonksiyonu ile her sınıfa bir olasılık atar.\n",
    "\n",
    "5. **Dropout:**\n",
    "- Aşırı öğrenmeyi engellemek için fully connected katmanda kullanılmıştır."
   ]
  },
  {
   "cell_type": "code",
   "execution_count": null,
   "metadata": {
    "execution": {
     "iopub.execute_input": "2024-12-22T14:41:40.321890Z",
     "iopub.status.busy": "2024-12-22T14:41:40.321424Z",
     "iopub.status.idle": "2024-12-22T14:41:40.564939Z",
     "shell.execute_reply": "2024-12-22T14:41:40.563642Z",
     "shell.execute_reply.started": "2024-12-22T14:41:40.321852Z"
    },
    "trusted": true
   },
   "outputs": [],
   "source": [
    "# CNN Modeli\n",
    "model = Sequential()\n",
    "\n",
    "# 1. Kovülasyon Katmanı\n",
    "model.add(Conv2D(32, (3,3), activation = 'relu', input_shape = (128, 128, 3))) # 32 filtre, 3x3 çekirdek\n",
    "model.add(MaxPooling2D(pool_size = (2,2))) # 2x2 boyutunda havuz\n",
    "\n",
    "# 2. Kovülasyon Katmanı\n",
    "model.add(Conv2D(64, (3,3), activation = 'relu')) # 64 filtre\n",
    "model.add(MaxPooling2D(pool_size = (2,2)))\n",
    "\n",
    "# 3. Kovülasyon Katmanı\n",
    "model.add(Conv2D(128, (3,3), activation = 'relu')) # 128 filtre\n",
    "model.add(MaxPooling2D(pool_size = (2,2)))\n",
    "\n",
    "# Fully Connected Katmanları\n",
    "model.add(Flatten()) # veriyi düzleştirme\n",
    "model.add(Dense(128, activation = 'relu')) # 128 nöronlu tam bağlantılı katman\n",
    "model.add(Dropout(0.5)) # aşırı öğrenmeyi önlemek için\n",
    "model.add(Dense(10, activation = 'softmax')) # çıkış katmanı\n",
    "\n",
    "# Modeli Derleme\n",
    "model.compile(optimizer= Adam(learning_rate=0.001),\n",
    "              loss='categorical_crossentropy',\n",
    "              metrics=['accuracy'])\n",
    "\n",
    "# Model özeti\n",
    "model.summary()"
   ]
  },
  {
   "cell_type": "markdown",
   "metadata": {},
   "source": [
    "#### **Toplam Parametre Sayısı:**\n",
    "- **Toplam:** 3,305,930\n",
    "- **Eğitilebilir:** 3,305,930\n",
    "- **Eğitilemez:** 0"
   ]
  },
  {
   "cell_type": "markdown",
   "metadata": {},
   "source": [
    "### **Modelin Çalışma Mantığı**\n",
    "1. **Giriş:** 128x128 boyutunda RGB görüntüler.\n",
    "2. **Çıkış:** 10 sınıf için her birine atanmış olasılık değerleri (softmax ile)\n",
    "3.  **Aşamalı Özellik Öğrenimi:**\n",
    "   - İlk konvolüsyon katmanları düşük seviyeli özellikleri (örneğin kenarlar),\n",
    "   - Orta katmanlar daha karmaşık özellikleri,\n",
    "   - Son katmanlar ise tüm görüntünün genel yapısını öğrenir.\n",
    "4. **Sınıflandırma:** Fully connected katmanlar, öğrenilen özellikleri 10 sınıfa ayırır."
   ]
  },
  {
   "cell_type": "markdown",
   "metadata": {},
   "source": [
    "## **4) Modeli Test Etme**"
   ]
  },
  {
   "cell_type": "code",
   "execution_count": 24,
   "metadata": {
    "execution": {
     "iopub.execute_input": "2024-12-22T14:41:40.566529Z",
     "iopub.status.busy": "2024-12-22T14:41:40.566172Z",
     "iopub.status.idle": "2024-12-22T14:41:40.574593Z",
     "shell.execute_reply": "2024-12-22T14:41:40.573219Z",
     "shell.execute_reply.started": "2024-12-22T14:41:40.566480Z"
    },
    "trusted": true
   },
   "outputs": [],
   "source": [
    "from tensorflow.keras.utils import to_categorical\n",
    "\n",
    "# Etiketleri one-hot encoding formatına dönüştür\n",
    "y_train_encoded = to_categorical(y_train, num_classes=10)\n",
    "y_test_encoded = to_categorical(y_test, num_classes=10)"
   ]
  },
  {
   "cell_type": "code",
   "execution_count": null,
   "metadata": {
    "execution": {
     "iopub.execute_input": "2024-12-22T14:41:40.576415Z",
     "iopub.status.busy": "2024-12-22T14:41:40.575814Z",
     "iopub.status.idle": "2024-12-22T14:58:49.598050Z",
     "shell.execute_reply": "2024-12-22T14:58:49.596435Z",
     "shell.execute_reply.started": "2024-12-22T14:41:40.576366Z"
    },
    "trusted": true
   },
   "outputs": [],
   "source": [
    "history = model.fit(\n",
    "    X_train, y_train_encoded,\n",
    "    validation_data=(X_test, y_test_encoded),\n",
    "    epochs=10,  # Eğitim döngüleri\n",
    "    batch_size=32,  # Mini-batch boyutu\n",
    "    verbose=1  # Eğitim sırasında detaylı çıktı\n",
    ")"
   ]
  },
  {
   "cell_type": "code",
   "execution_count": null,
   "metadata": {
    "execution": {
     "iopub.execute_input": "2024-12-22T14:58:49.600451Z",
     "iopub.status.busy": "2024-12-22T14:58:49.600077Z",
     "iopub.status.idle": "2024-12-22T14:58:59.875429Z",
     "shell.execute_reply": "2024-12-22T14:58:59.874027Z",
     "shell.execute_reply.started": "2024-12-22T14:58:49.600418Z"
    },
    "trusted": true
   },
   "outputs": [],
   "source": [
    "test_loss, test_accuracy = model.evaluate(X_test, y_test_encoded, verbose=0)\n",
    "print(f\"Test Doğruluğu: {test_accuracy*100:.2f}%\")"
   ]
  },
  {
   "cell_type": "markdown",
   "metadata": {},
   "source": [
    "Aşağıda, modelin eğitim sürecinde eğitim ve doğrulama doğruluk değerlerini gösteren bir grafik bulunmaktadır."
   ]
  },
  {
   "cell_type": "code",
   "execution_count": null,
   "metadata": {
    "execution": {
     "iopub.execute_input": "2024-12-22T14:58:59.880665Z",
     "iopub.status.busy": "2024-12-22T14:58:59.880242Z",
     "iopub.status.idle": "2024-12-22T14:59:00.150763Z",
     "shell.execute_reply": "2024-12-22T14:59:00.149403Z",
     "shell.execute_reply.started": "2024-12-22T14:58:59.880631Z"
    },
    "trusted": true
   },
   "outputs": [],
   "source": [
    "# Eğitim ve doğrulama doğruluğu grafiği\n",
    "plt.plot(history.history['accuracy'], label='Eğitim Doğruluğu')\n",
    "plt.plot(history.history['val_accuracy'], label='Doğrulama Doğruluğu')\n",
    "plt.xlabel('Epochs')\n",
    "plt.ylabel('Doğruluk')\n",
    "plt.legend()\n",
    "plt.show()"
   ]
  },
  {
   "cell_type": "markdown",
   "metadata": {},
   "source": [
    "### **Model Performansı ve Değerlendirme**\n",
    "**1. Eğitim Doğruluğu (Accuracy):** Grafiğe baktığımızda, modelin eğitim doğruluğu düzenli bir şekilde arttığı gözüküyor.\n",
    "- Bu, modelin eğitim verisi üzerinde her epoch'ta daha iyi performans sergilediğini gösterir.\n",
    "\n",
    "**2. Doğrulama Doğruluğu (Validation Accuracy):** Modelin doğrulama doğruluğu şu şekilde ilerlemiştir:\n",
    "- Doğrulama doğruluğu başlangıçta hızlı bir artış göstermiş, ancak yaklaşık 5-6 epoch sonrasında bir plato oluşturmuş ve daha fazla artmamıştır.\n",
    "- Bu durum, modelin doğrulama seti üzerindeki performansının belirli bir seviyeye ulaştıktan sonra iyileşmediğini göstermektedir.\n",
    "- Eğitim doğruluğu artmaya devam ederken doğrulama doğruluğu sabit kalmış veya hafifçe dalgalanmıştır.\n",
    "\n",
    "**3. Eğitim ve Doğrulama Kayıpları (Loss):**\n",
    "- Eğitim kaybı düzenli bir şekilde azalmıştır.\n",
    "- Doğrulama kaybı bazı noktalarda artmıştır. Bu artış, doğrulama setindeki performansın eğitim setine göre düştüğünü gösterir. Bu, modelin eğitim verisine fazla uyum sağladığını (**overfitting**) gösterebilir.\n",
    "\n",
    "\n",
    "**Yukarıdaki çıktılara ve grafiklere bakıldığında elde edilen sonuç:** \n",
    "\n",
    "Model, test verisiyle test edilmiştir. *Test doğruluğu %61* seviyesinde elde edilmiştir. Projede belirtilen kriterlere göre, model doğruluğu %50’nin üzerinde olduğu için model sınıfları yeterli bir başarıyla ayırabilmektedir. \n",
    "\n",
    "Bu doğrultuda, projede belirtilen talimatlara uygun olarak **bir sonraki adıma geçilmiştir.**\n"
   ]
  },
  {
   "cell_type": "markdown",
   "metadata": {},
   "source": [
    "## 5) Resimlerin Farklı Işıklar ile Manipüle Edilmesi"
   ]
  },
  {
   "cell_type": "code",
   "execution_count": 28,
   "metadata": {
    "execution": {
     "iopub.execute_input": "2024-12-22T14:59:00.152811Z",
     "iopub.status.busy": "2024-12-22T14:59:00.152430Z",
     "iopub.status.idle": "2024-12-22T14:59:00.160818Z",
     "shell.execute_reply": "2024-12-22T14:59:00.159455Z",
     "shell.execute_reply.started": "2024-12-22T14:59:00.152778Z"
    },
    "trusted": true
   },
   "outputs": [],
   "source": [
    "def get_manipulated_images_with_labels(image_paths, labels, save_dir, brightness_values=[0.5, 1.5]):\n",
    "  \n",
    "    if not os.path.exists(save_dir):\n",
    "        os.makedirs(save_dir)\n",
    "    \n",
    "    saved_paths = []  # Kaydedilen dosya yolları\n",
    "    manipulated_labels = []  # Genişletilmiş etiketler\n",
    "\n",
    "    for image_path, label in zip(image_paths, labels):\n",
    "        image = cv2.imread(image_path)\n",
    "        if image is None:\n",
    "            print(f\"Resim yüklenemedi: {image_path}\")\n",
    "            continue\n",
    "        image_name = os.path.basename(image_path).split('.')[0]\n",
    "        \n",
    "        for brightness in brightness_values:\n",
    "            manipulated_image = cv2.convertScaleAbs(image, alpha=brightness, beta=0)\n",
    "            save_path = os.path.join(save_dir, f\"{image_name}_brightness_{brightness}.jpg\")\n",
    "            cv2.imwrite(save_path, manipulated_image)\n",
    "            saved_paths.append(save_path)\n",
    "            manipulated_labels.append(label)  # Etiketi genişlet\n",
    "\n",
    "    return saved_paths, manipulated_labels"
   ]
  },
  {
   "cell_type": "code",
   "execution_count": null,
   "metadata": {
    "execution": {
     "iopub.execute_input": "2024-12-22T15:26:21.403022Z",
     "iopub.status.busy": "2024-12-22T15:26:21.401861Z",
     "iopub.status.idle": "2024-12-22T15:26:21.423387Z",
     "shell.execute_reply": "2024-12-22T15:26:21.421998Z",
     "shell.execute_reply.started": "2024-12-22T15:26:21.402948Z"
    },
    "trusted": true
   },
   "outputs": [],
   "source": [
    "test_dir = '/kaggle/working/filtered_data'\n",
    "image_paths = [\n",
    "    os.path.join(test_dir, file)\n",
    "    for file in os.listdir(test_dir)\n",
    "    if file.endswith(('.png', '.jpg', '.jpeg'))\n",
    "]\n",
    "print(f\"Bulunan test görüntüsü sayısı: {len(image_paths)}\")"
   ]
  },
  {
   "cell_type": "code",
   "execution_count": 31,
   "metadata": {
    "execution": {
     "iopub.execute_input": "2024-12-22T15:26:25.744535Z",
     "iopub.status.busy": "2024-12-22T15:26:25.744027Z",
     "iopub.status.idle": "2024-12-22T15:27:01.069576Z",
     "shell.execute_reply": "2024-12-22T15:27:01.068242Z",
     "shell.execute_reply.started": "2024-12-22T15:26:25.744486Z"
    },
    "trusted": true
   },
   "outputs": [],
   "source": [
    "save_dir = '/kaggle/working/filtered_data'   # Manipüle edilmiş görüntülerin kaydedileceği klasör\n",
    "manipulated_paths, manipulated_labels = get_manipulated_images_with_labels(\n",
    "    image_paths=image_paths,\n",
    "    labels=y_test_encoded,  # Test setindeki etiketler\n",
    "    save_dir=save_dir,\n",
    "    brightness_values=[0.5, 1.5]\n",
    ")"
   ]
  },
  {
   "cell_type": "code",
   "execution_count": null,
   "metadata": {
    "execution": {
     "iopub.execute_input": "2024-12-22T15:27:19.957157Z",
     "iopub.status.busy": "2024-12-22T15:27:19.955296Z",
     "iopub.status.idle": "2024-12-22T15:27:19.975282Z",
     "shell.execute_reply": "2024-12-22T15:27:19.972235Z",
     "shell.execute_reply.started": "2024-12-22T15:27:19.956919Z"
    },
    "trusted": true
   },
   "outputs": [],
   "source": [
    "print(f\"Manipüle edilmiş görüntü sayısı: {len(manipulated_paths)}\")\n",
    "print(f\"Manipüle edilmiş etiket sayısı: {len(manipulated_labels)}\")"
   ]
  },
  {
   "cell_type": "code",
   "execution_count": null,
   "metadata": {
    "collapsed": true,
    "execution": {
     "iopub.execute_input": "2024-12-22T15:27:22.569432Z",
     "iopub.status.busy": "2024-12-22T15:27:22.568780Z",
     "iopub.status.idle": "2024-12-22T15:27:22.595418Z",
     "shell.execute_reply": "2024-12-22T15:27:22.593587Z",
     "shell.execute_reply.started": "2024-12-22T15:27:22.569380Z"
    },
    "jupyter": {
     "outputs_hidden": true
    },
    "trusted": true
   },
   "outputs": [],
   "source": [
    "print(os.listdir(save_dir))  # Manipüle edilmiş görüntülerin olduğu dosyaları listele"
   ]
  },
  {
   "cell_type": "code",
   "execution_count": null,
   "metadata": {
    "execution": {
     "iopub.execute_input": "2024-12-22T15:27:55.597002Z",
     "iopub.status.busy": "2024-12-22T15:27:55.596324Z",
     "iopub.status.idle": "2024-12-22T15:27:56.158156Z",
     "shell.execute_reply": "2024-12-22T15:27:56.156698Z",
     "shell.execute_reply.started": "2024-12-22T15:27:55.596950Z"
    },
    "trusted": true
   },
   "outputs": [],
   "source": [
    "sample_image = image_paths[0]  # İlk görüntüyü al\n",
    "image = cv2.imread(sample_image)\n",
    "manipulated_image = cv2.convertScaleAbs(image, alpha=1.5, beta=0)\n",
    "\n",
    "plt.figure(figsize=(10, 5))\n",
    "plt.subplot(1, 2, 1)\n",
    "plt.title(\"Orijinal\")\n",
    "plt.imshow(cv2.cvtColor(image, cv2.COLOR_BGR2RGB))\n",
    "plt.axis('off')\n",
    "\n",
    "plt.subplot(1, 2, 2)\n",
    "plt.title(\"Parlaklık Manipülasyonu\")\n",
    "plt.imshow(cv2.cvtColor(manipulated_image, cv2.COLOR_BGR2RGB))\n",
    "plt.axis('off')\n",
    "plt.show()"
   ]
  },
  {
   "cell_type": "markdown",
   "metadata": {},
   "source": [
    "Yukarıdaki görselde, test görüntülerinden birine parlaklık manipülasyonu uygulanmıştır. Soldaki görsel, manipülasyon öncesindeki orjinal görüntüdür Görsel normal parlaklık seviyesinde olup herhanbir bir işlem uygulanmamıştır. Sağdaki görsel, orjinal görüntüye 'alpha= 1.5' parlaklık faktörü kullanılarak manipüle edilmiştir.Görseldeki parlaklık artışı sayesinde detaylar daha belirgin hale gelmiştir. Renkler daha aydınlık bir tondadır."
   ]
  },
  {
   "cell_type": "code",
   "execution_count": null,
   "metadata": {
    "execution": {
     "iopub.execute_input": "2024-12-22T15:28:12.653578Z",
     "iopub.status.busy": "2024-12-22T15:28:12.653150Z",
     "iopub.status.idle": "2024-12-22T15:28:23.937624Z",
     "shell.execute_reply": "2024-12-22T15:28:23.935749Z",
     "shell.execute_reply.started": "2024-12-22T15:28:12.653538Z"
    },
    "trusted": true
   },
   "outputs": [],
   "source": [
    "# Orijinal test setini model üzerinde değerlendirin\n",
    "test_loss, original_test_accuracy = model.evaluate(X_test, y_test_encoded, verbose=1)\n",
    "\n",
    "# Doğruluk oranını yazdırın\n",
    "print(f\"Orijinal test doğruluğu: {original_test_accuracy * 100:.2f}%\")"
   ]
  },
  {
   "cell_type": "markdown",
   "metadata": {},
   "source": [
    "## 6) Modelin Manipüle Edilmiş Test Seti ile Denenmesi"
   ]
  },
  {
   "cell_type": "code",
   "execution_count": null,
   "metadata": {
    "execution": {
     "iopub.execute_input": "2024-12-22T15:28:27.117667Z",
     "iopub.status.busy": "2024-12-22T15:28:27.117155Z",
     "iopub.status.idle": "2024-12-22T15:28:59.071612Z",
     "shell.execute_reply": "2024-12-22T15:28:59.069894Z",
     "shell.execute_reply.started": "2024-12-22T15:28:27.117629Z"
    },
    "trusted": true
   },
   "outputs": [],
   "source": [
    "manipulated_test_images = np.array([preprocess_image(path, size=(128, 128)) for path in manipulated_paths])\n",
    "manipulated_test_labels = np.array(manipulated_labels)\n",
    "\n",
    "print(f\"Manipüle edilmiş test setinin görüntü boyutu: {manipulated_test_images.shape}\")\n",
    "print(f\"Manipüle edilmiş test setinin etiket boyutu: {manipulated_test_labels.shape}\")"
   ]
  },
  {
   "cell_type": "code",
   "execution_count": null,
   "metadata": {
    "execution": {
     "iopub.execute_input": "2024-12-22T15:29:23.948540Z",
     "iopub.status.busy": "2024-12-22T15:29:23.947983Z",
     "iopub.status.idle": "2024-12-22T15:29:45.716328Z",
     "shell.execute_reply": "2024-12-22T15:29:45.714930Z",
     "shell.execute_reply.started": "2024-12-22T15:29:23.948484Z"
    },
    "trusted": true
   },
   "outputs": [],
   "source": [
    "# Manipüle edilmiş test setini model üzerinde değerlendir\n",
    "test_loss, manipulated_test_accuracy = model.evaluate(manipulated_test_images, manipulated_test_labels, verbose=1)\n",
    "print(f\"Manipüle edilmiş test doğruluğu: {manipulated_test_accuracy * 100:.2f}%\")"
   ]
  },
  {
   "cell_type": "markdown",
   "metadata": {},
   "source": [
    "**Manipüle Edilmiş Test Seti Sonucu:**\n",
    "Manipüle edilmiş test seti üzerinde modelin doğruluğu **%10.41** olarak ölçülmüştür. Bu, manipüle edilmiş veri üzerindeki düşük doğruluk oranını ve modelin bu tür verilere genelleme yeteneğinin sınırlı olduğunu göstermektedir.Manipüle edilmiş test seti, modelin eğitim sırasında gördüğü veri dağılımından farklıdır. Bu, modelin manipüle edilmiş verilere uyum sağlayamadığını ve sınıflandırma görevini doğru şekilde yerine getiremediğini göstermektedir.\n"
   ]
  },
  {
   "cell_type": "markdown",
   "metadata": {},
   "source": [
    "## **7) Manipüle Edilmiş Test Setine Renk Sabitliği Algoritması Uygulanması**"
   ]
  },
  {
   "cell_type": "code",
   "execution_count": 38,
   "metadata": {
    "execution": {
     "iopub.execute_input": "2024-12-22T15:32:14.668083Z",
     "iopub.status.busy": "2024-12-22T15:32:14.667465Z",
     "iopub.status.idle": "2024-12-22T15:32:14.676998Z",
     "shell.execute_reply": "2024-12-22T15:32:14.675301Z",
     "shell.execute_reply.started": "2024-12-22T15:32:14.668045Z"
    },
    "trusted": true
   },
   "outputs": [],
   "source": [
    "def get_wb_images(image_paths, save_dir):\n",
    "    \n",
    "    if not os.path.exists(save_dir):\n",
    "        os.makedirs(save_dir)\n",
    "\n",
    "    wb_images = []\n",
    "\n",
    "    for image_path in image_paths:\n",
    "        image = cv2.imread(image_path)\n",
    "        if image is None:\n",
    "            print(f\"Resim yüklenemedi: {image_path}\")\n",
    "            continue\n",
    "        image_name = os.path.basename(image_path).split('.')[0]\n",
    "        \n",
    "        # Gray World algoritması\n",
    "        result = cv2.xphoto.createGrayworldWB()\n",
    "        wb_image = result.balanceWhite(image)\n",
    "\n",
    "        save_path = os.path.join(save_dir, f\"{image_name}_wb.jpg\")\n",
    "        cv2.imwrite(save_path, wb_image)\n",
    "        wb_images.append(save_path)\n",
    "        print(f\"{save_path} kaydedildi.\")\n",
    "\n",
    "    return wb_images"
   ]
  },
  {
   "cell_type": "code",
   "execution_count": null,
   "metadata": {
    "collapsed": true,
    "execution": {
     "iopub.execute_input": "2024-12-22T15:32:17.437472Z",
     "iopub.status.busy": "2024-12-22T15:32:17.437049Z",
     "iopub.status.idle": "2024-12-22T15:33:06.603274Z",
     "shell.execute_reply": "2024-12-22T15:33:06.601842Z",
     "shell.execute_reply.started": "2024-12-22T15:32:17.437438Z"
    },
    "jupyter": {
     "outputs_hidden": true
    },
    "trusted": true
   },
   "outputs": [],
   "source": [
    "# Manipüle edilmiş test setinin dosya yolları\n",
    "manipulated_test_dir = '/kaggle/working/manipulated_test_images'  # Manipüle edilmiş test seti yolu\n",
    "save_dir_wb = '/kaggle/working/wb_test_images'  # Kaydedilecek renk sabitliği uygulanmış test seti\n",
    "\n",
    "# Gray World algoritması ile renk sabitliği uygula\n",
    "wb_image_paths = get_wb_images(manipulated_paths, save_dir_wb)\n",
    "\n",
    "# Renk sabitliği uygulanmış görüntü sayısını yazdır\n",
    "print(f\"Renk sabitliği uygulanmış görüntü sayısı: {len(wb_image_paths)}\")"
   ]
  },
  {
   "cell_type": "code",
   "execution_count": null,
   "metadata": {
    "execution": {
     "iopub.execute_input": "2024-12-22T15:34:40.331488Z",
     "iopub.status.busy": "2024-12-22T15:34:40.330905Z",
     "iopub.status.idle": "2024-12-22T15:35:08.392889Z",
     "shell.execute_reply": "2024-12-22T15:35:08.391561Z",
     "shell.execute_reply.started": "2024-12-22T15:34:40.331451Z"
    },
    "trusted": true
   },
   "outputs": [],
   "source": [
    "# Renk sabitliği uygulanmış görüntüleri normalize et\n",
    "wb_test_images = np.array([preprocess_image(path, size=(128, 128)) for path in wb_image_paths])\n",
    "wb_test_labels = np.array(manipulated_labels)  # Manipüle edilmiş test setinin etiketlerini kullan\n",
    "\n",
    "# Boyutları kontrol et\n",
    "print(f\"Renk sabitliği uygulanmış test setinin görüntü boyutu: {wb_test_images.shape}\")\n",
    "print(f\"Renk sabitliği uygulanmış test setinin etiket boyutu: {wb_test_labels.shape}\")"
   ]
  },
  {
   "cell_type": "markdown",
   "metadata": {},
   "source": [
    "## **8) Modelin Renk Sabitliği Uygulanmış Test Seti ile Denenmesi**"
   ]
  },
  {
   "cell_type": "code",
   "execution_count": null,
   "metadata": {
    "execution": {
     "iopub.execute_input": "2024-12-22T15:38:04.026963Z",
     "iopub.status.busy": "2024-12-22T15:38:04.026405Z",
     "iopub.status.idle": "2024-12-22T15:38:27.282898Z",
     "shell.execute_reply": "2024-12-22T15:38:27.281621Z",
     "shell.execute_reply.started": "2024-12-22T15:38:04.026927Z"
    },
    "trusted": true
   },
   "outputs": [],
   "source": [
    "# Renk sabitliği uygulanmış test setini model üzerinde değerlendir\n",
    "test_loss, wb_test_accuracy = model.evaluate(wb_test_images, wb_test_labels, verbose=1)\n",
    "print(f\"Renk sabitliği uygulanmış test doğruluğu: {wb_test_accuracy * 100:.2f}%\")"
   ]
  },
  {
   "cell_type": "markdown",
   "metadata": {},
   "source": [
    "## **9) Farklı Test Setlerinin Başarılarını Karşılaştırma ve Raporlama**"
   ]
  },
  {
   "cell_type": "code",
   "execution_count": null,
   "metadata": {
    "execution": {
     "iopub.execute_input": "2024-12-22T15:38:47.598889Z",
     "iopub.status.busy": "2024-12-22T15:38:47.598443Z",
     "iopub.status.idle": "2024-12-22T15:38:47.851003Z",
     "shell.execute_reply": "2024-12-22T15:38:47.849453Z",
     "shell.execute_reply.started": "2024-12-22T15:38:47.598855Z"
    },
    "trusted": true
   },
   "outputs": [],
   "source": [
    "# Doğruluk oranları\n",
    "accuracies = [original_test_accuracy * 100, manipulated_test_accuracy * 100, wb_test_accuracy * 100]\n",
    "labels = [\"Orijinal Test Seti\", \"Manipüle Edilmiş Test Seti\", \"Renk Sabitliği Uygulanmış Test Seti\"]\n",
    "\n",
    "# Grafik oluşturma\n",
    "plt.figure(figsize=(10, 6))\n",
    "plt.bar(labels, accuracies, color=['blue', 'orange', 'green'])\n",
    "plt.ylabel(\"Doğruluk Oranı (%)\")\n",
    "plt.title(\"Farklı Test Setlerinin Doğruluk Oranları\")\n",
    "plt.ylim(0, 100)\n",
    "plt.show()"
   ]
  },
  {
   "cell_type": "markdown",
   "metadata": {},
   "source": [
    "## **Raporlama ve Analiz**\n",
    "Yukarıdaki grafikte, üç farklı test setinin doğruluk oranları karşılaştırılmıştır:\n",
    "\n",
    "1. **Orijinal Test Seti**: Modelin, orijinal test seti üzerindeki doğruluk oranı %61 seviyesinde ölçülmüştür. Model, orijinal test setinde yeterli performans göstermektedir. %50'nin üzerinde bir doğruluk oranı elde edilmiştir. Bu, modelin eğitim süreci ve veri seti üzerindeki performansının tatmin edici olduğunu göstermektedir.\n",
    "   \n",
    "2. **Manipüle Edilmiş Test Seti**: Manipüle edilmiş test seti (farklı parlaklık değerleri uygulanan), model doğruluk oranında ciddi bir düşüşe neden olmuştur (%10.41). Manipüle edilmiş test seti üzerinde doğruluk oranı oldukça düşüktür. Bu, modelin veri manipülasyonlarına karşı dayanıklı olmadığını ve parlaklık değişiklikleri gibi faktörlerin sınıflandırma doğruluğunu ciddi şekilde azalttığını göstermektedir.\n",
    "\n",
    "3. **Renk Sabitliği Uygulanmış Test Seti**: Gray World algoritması ile renk sabitliği uygulanmış test setinde de düşük doğruluk oranı elde edilmiştir. Bu, renk sabitliği algoritmasının tek başına model performansını iyileştirmekte yeterli olmadığını göstermektedir.\n",
    "\n",
    "**Düşük Sonuçların Nedenleri:**\n",
    "- Modelin karmaşıklığı manipüle edilmiş verilerle başa çıkabilecek seviyede olmayabilir. CNN mimarisi, veri manipülasyonlarına ve parlaklık değişikliklerine karşı daha dayanıklı olacak şekilde geliştirilebilir.\n",
    "- Model, eğitim verisine fazla uyum sağlamış olabilir. Bu da test verisi üzerindeki performansın düşmesine neden olabilir.\n",
    "\n",
    "**İyileştirme Önerileri:**\n",
    "* Eğitim sırasında veri çeşitliliğini artırmak için veri artırma (data augmentation) tekniklerini kullanabiliriz. (Brightness Range,Rotation, Shear, Zoom vb)\n",
    "* Model karmaşıklığını arttırmak için ekstra katmanlar ekleyebilir, dropout arttırarak overfitting'i azaltabiliriz.\n",
    "\n",
    "## **Sonuç**\n",
    "Bu projede, modelin orijinal test setinde başarılı bir performans sergilemesine rağmen manipüle edilmiş ve renk sabitliği uygulanmış test setlerinde düşük sonuçlar elde edilmiştir. Bu durum, modelin veri çeşitliliği ve dayanıklılık konularında iyileştirilmesi gerektiğini göstermektedir. Yukarıdaki öneriler uygulanarak modelin manipülasyonlara karşı performansı artırılabilir."
   ]
  }
 ],
 "metadata": {
  "kaggle": {
   "accelerator": "none",
   "dataSources": [
    {
     "datasetId": 1408532,
     "sourceId": 2333429,
     "sourceType": "datasetVersion"
    }
   ],
   "dockerImageVersionId": 30822,
   "isGpuEnabled": false,
   "isInternetEnabled": true,
   "language": "python",
   "sourceType": "notebook"
  },
  "kernelspec": {
   "display_name": "Python 3",
   "language": "python",
   "name": "python3"
  },
  "language_info": {
   "codemirror_mode": {
    "name": "ipython",
    "version": 3
   },
   "file_extension": ".py",
   "mimetype": "text/x-python",
   "name": "python",
   "nbconvert_exporter": "python",
   "pygments_lexer": "ipython3",
   "version": "3.10.12"
  }
 },
 "nbformat": 4,
 "nbformat_minor": 4
}
